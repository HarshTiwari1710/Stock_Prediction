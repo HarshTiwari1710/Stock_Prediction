{
 "cells": [
  {
   "cell_type": "code",
   "execution_count": 1,
   "metadata": {},
   "outputs": [],
   "source": [
    "import numpy as np\n",
    "import matplotlib.pyplot as plt\n",
    "import pandas as pd \n",
    "from sklearn.linear_model import LinearRegression\n",
    "from sklearn.model_selection import train_test_split\n",
    "from sklearn import metrics"
   ]
  },
  {
   "cell_type": "code",
   "execution_count": 4,
   "metadata": {},
   "outputs": [],
   "source": [
    "plt.style.use(\"seaborn\")\n",
    "#loading the data \n",
    "df = pd.read_csv(r\"EOD-DIS.csv\")"
   ]
  },
  {
   "cell_type": "code",
   "execution_count": 5,
   "metadata": {},
   "outputs": [
    {
     "name": "stdout",
     "output_type": "stream",
     "text": [
      "         Date    Open     High       Low   Close     Volume  Dividend  Split  \\\n",
      "0  2017-12-28  108.00  108.050  107.0600  107.77  3477599.0       0.0    1.0   \n",
      "1  2017-12-27  108.42  108.550  107.4550  107.64  5624037.0       0.0    1.0   \n",
      "2  2017-12-26  108.49  109.370  107.8900  108.12  3982398.0       0.0    1.0   \n",
      "3  2017-12-22  109.40  109.685  108.4500  108.67  7377990.0       0.0    1.0   \n",
      "4  2017-12-21  109.52  111.090  109.1892  109.57  9366706.0       0.0    1.0   \n",
      "\n",
      "     Adj_Open    Adj_High     Adj_Low   Adj_Close  Adj_Volume  \n",
      "0  105.021618  105.070239  104.107541  104.797960   3477599.0  \n",
      "1  105.430035  105.556450  104.491647  104.671545   5624037.0  \n",
      "2  105.498105  106.353836  104.914651  105.138308   3982398.0  \n",
      "3  106.383009  106.660149  105.459208  105.673141   7377990.0  \n",
      "4  106.499700  108.026403  106.178022  106.548321   9366706.0  \n"
     ]
    }
   ],
   "source": [
    "print(df.head())"
   ]
  },
  {
   "cell_type": "code",
   "execution_count": 6,
   "metadata": {},
   "outputs": [
    {
     "data": {
      "text/html": [
       "<div>\n",
       "<style scoped>\n",
       "    .dataframe tbody tr th:only-of-type {\n",
       "        vertical-align: middle;\n",
       "    }\n",
       "\n",
       "    .dataframe tbody tr th {\n",
       "        vertical-align: top;\n",
       "    }\n",
       "\n",
       "    .dataframe thead th {\n",
       "        text-align: right;\n",
       "    }\n",
       "</style>\n",
       "<table border=\"1\" class=\"dataframe\">\n",
       "  <thead>\n",
       "    <tr style=\"text-align: right;\">\n",
       "      <th></th>\n",
       "      <th>Open</th>\n",
       "      <th>High</th>\n",
       "      <th>Low</th>\n",
       "      <th>Close</th>\n",
       "      <th>Volume</th>\n",
       "      <th>Dividend</th>\n",
       "      <th>Split</th>\n",
       "      <th>Adj_Open</th>\n",
       "      <th>Adj_High</th>\n",
       "      <th>Adj_Low</th>\n",
       "      <th>Adj_Close</th>\n",
       "      <th>Adj_Volume</th>\n",
       "    </tr>\n",
       "  </thead>\n",
       "  <tbody>\n",
       "    <tr>\n",
       "      <th>count</th>\n",
       "      <td>1090.000000</td>\n",
       "      <td>1090.000000</td>\n",
       "      <td>1090.000000</td>\n",
       "      <td>1090.000000</td>\n",
       "      <td>1.090000e+03</td>\n",
       "      <td>1090.000000</td>\n",
       "      <td>1090.0</td>\n",
       "      <td>1090.000000</td>\n",
       "      <td>1090.000000</td>\n",
       "      <td>1090.000000</td>\n",
       "      <td>1090.000000</td>\n",
       "      <td>1.090000e+03</td>\n",
       "    </tr>\n",
       "    <tr>\n",
       "      <th>mean</th>\n",
       "      <td>96.633832</td>\n",
       "      <td>97.284721</td>\n",
       "      <td>95.930802</td>\n",
       "      <td>96.634275</td>\n",
       "      <td>7.624408e+06</td>\n",
       "      <td>0.005954</td>\n",
       "      <td>1.0</td>\n",
       "      <td>90.882806</td>\n",
       "      <td>91.494367</td>\n",
       "      <td>90.222470</td>\n",
       "      <td>90.883165</td>\n",
       "      <td>7.624408e+06</td>\n",
       "    </tr>\n",
       "    <tr>\n",
       "      <th>std</th>\n",
       "      <td>13.296325</td>\n",
       "      <td>13.327518</td>\n",
       "      <td>13.221661</td>\n",
       "      <td>13.267403</td>\n",
       "      <td>4.352088e+06</td>\n",
       "      <td>0.070350</td>\n",
       "      <td>0.0</td>\n",
       "      <td>13.500515</td>\n",
       "      <td>13.537531</td>\n",
       "      <td>13.428000</td>\n",
       "      <td>13.475775</td>\n",
       "      <td>4.352088e+06</td>\n",
       "    </tr>\n",
       "    <tr>\n",
       "      <th>min</th>\n",
       "      <td>60.920000</td>\n",
       "      <td>61.220000</td>\n",
       "      <td>60.520000</td>\n",
       "      <td>60.930000</td>\n",
       "      <td>2.166034e+06</td>\n",
       "      <td>0.000000</td>\n",
       "      <td>1.0</td>\n",
       "      <td>55.396024</td>\n",
       "      <td>55.668821</td>\n",
       "      <td>55.032294</td>\n",
       "      <td>55.405117</td>\n",
       "      <td>2.166034e+06</td>\n",
       "    </tr>\n",
       "    <tr>\n",
       "      <th>25%</th>\n",
       "      <td>89.402500</td>\n",
       "      <td>90.032750</td>\n",
       "      <td>88.920000</td>\n",
       "      <td>89.617500</td>\n",
       "      <td>5.400734e+06</td>\n",
       "      <td>0.000000</td>\n",
       "      <td>1.0</td>\n",
       "      <td>82.357467</td>\n",
       "      <td>82.889778</td>\n",
       "      <td>81.883404</td>\n",
       "      <td>82.571496</td>\n",
       "      <td>5.400734e+06</td>\n",
       "    </tr>\n",
       "    <tr>\n",
       "      <th>50%</th>\n",
       "      <td>98.575000</td>\n",
       "      <td>99.175000</td>\n",
       "      <td>98.007500</td>\n",
       "      <td>98.595000</td>\n",
       "      <td>6.658320e+06</td>\n",
       "      <td>0.000000</td>\n",
       "      <td>1.0</td>\n",
       "      <td>93.751049</td>\n",
       "      <td>94.271816</td>\n",
       "      <td>93.018070</td>\n",
       "      <td>93.618734</td>\n",
       "      <td>6.658320e+06</td>\n",
       "    </tr>\n",
       "    <tr>\n",
       "      <th>75%</th>\n",
       "      <td>106.945000</td>\n",
       "      <td>107.526250</td>\n",
       "      <td>106.110000</td>\n",
       "      <td>106.940000</td>\n",
       "      <td>8.386674e+06</td>\n",
       "      <td>0.000000</td>\n",
       "      <td>1.0</td>\n",
       "      <td>101.417357</td>\n",
       "      <td>102.050565</td>\n",
       "      <td>100.590383</td>\n",
       "      <td>101.221291</td>\n",
       "      <td>8.386674e+06</td>\n",
       "    </tr>\n",
       "    <tr>\n",
       "      <th>max</th>\n",
       "      <td>121.500000</td>\n",
       "      <td>122.080000</td>\n",
       "      <td>120.610000</td>\n",
       "      <td>121.690000</td>\n",
       "      <td>6.090593e+07</td>\n",
       "      <td>1.150000</td>\n",
       "      <td>1.0</td>\n",
       "      <td>113.898573</td>\n",
       "      <td>114.442287</td>\n",
       "      <td>113.064255</td>\n",
       "      <td>114.076686</td>\n",
       "      <td>6.090593e+07</td>\n",
       "    </tr>\n",
       "  </tbody>\n",
       "</table>\n",
       "</div>"
      ],
      "text/plain": [
       "              Open         High          Low        Close        Volume  \\\n",
       "count  1090.000000  1090.000000  1090.000000  1090.000000  1.090000e+03   \n",
       "mean     96.633832    97.284721    95.930802    96.634275  7.624408e+06   \n",
       "std      13.296325    13.327518    13.221661    13.267403  4.352088e+06   \n",
       "min      60.920000    61.220000    60.520000    60.930000  2.166034e+06   \n",
       "25%      89.402500    90.032750    88.920000    89.617500  5.400734e+06   \n",
       "50%      98.575000    99.175000    98.007500    98.595000  6.658320e+06   \n",
       "75%     106.945000   107.526250   106.110000   106.940000  8.386674e+06   \n",
       "max     121.500000   122.080000   120.610000   121.690000  6.090593e+07   \n",
       "\n",
       "          Dividend   Split     Adj_Open     Adj_High      Adj_Low  \\\n",
       "count  1090.000000  1090.0  1090.000000  1090.000000  1090.000000   \n",
       "mean      0.005954     1.0    90.882806    91.494367    90.222470   \n",
       "std       0.070350     0.0    13.500515    13.537531    13.428000   \n",
       "min       0.000000     1.0    55.396024    55.668821    55.032294   \n",
       "25%       0.000000     1.0    82.357467    82.889778    81.883404   \n",
       "50%       0.000000     1.0    93.751049    94.271816    93.018070   \n",
       "75%       0.000000     1.0   101.417357   102.050565   100.590383   \n",
       "max       1.150000     1.0   113.898573   114.442287   113.064255   \n",
       "\n",
       "         Adj_Close    Adj_Volume  \n",
       "count  1090.000000  1.090000e+03  \n",
       "mean     90.883165  7.624408e+06  \n",
       "std      13.475775  4.352088e+06  \n",
       "min      55.405117  2.166034e+06  \n",
       "25%      82.571496  5.400734e+06  \n",
       "50%      93.618734  6.658320e+06  \n",
       "75%     101.221291  8.386674e+06  \n",
       "max     114.076686  6.090593e+07  "
      ]
     },
     "execution_count": 6,
     "metadata": {},
     "output_type": "execute_result"
    }
   ],
   "source": [
    "df.describe()"
   ]
  },
  {
   "cell_type": "code",
   "execution_count": 7,
   "metadata": {},
   "outputs": [],
   "source": [
    "x = df[['High', 'Low','Open','Volume']].values\n",
    "y = df['Close'].values"
   ]
  },
  {
   "cell_type": "code",
   "execution_count": 8,
   "metadata": {},
   "outputs": [],
   "source": [
    "x_train,x_test,y_train,y_test = train_test_split(x,y,test_size = 0.2,random_state = 0)"
   ]
  },
  {
   "cell_type": "code",
   "execution_count": 9,
   "metadata": {},
   "outputs": [],
   "source": [
    "regressor =  LinearRegression()"
   ]
  },
  {
   "cell_type": "code",
   "execution_count": 10,
   "metadata": {},
   "outputs": [
    {
     "data": {
      "text/plain": [
       "LinearRegression()"
      ]
     },
     "execution_count": 10,
     "metadata": {},
     "output_type": "execute_result"
    }
   ],
   "source": [
    "regressor.fit(x_train,y_train)"
   ]
  },
  {
   "cell_type": "code",
   "execution_count": 11,
   "metadata": {},
   "outputs": [
    {
     "name": "stdout",
     "output_type": "stream",
     "text": [
      "[ 7.84644480e-01  6.97462403e-01 -4.82403304e-01 -9.50360557e-09]\n"
     ]
    }
   ],
   "source": [
    "print(regressor.coef_)"
   ]
  },
  {
   "cell_type": "code",
   "execution_count": 12,
   "metadata": {},
   "outputs": [
    {
     "name": "stdout",
     "output_type": "stream",
     "text": [
      "0.07804153149025694\n"
     ]
    }
   ],
   "source": [
    "print(regressor.intercept_)"
   ]
  },
  {
   "cell_type": "code",
   "execution_count": 13,
   "metadata": {},
   "outputs": [],
   "source": [
    "predict = regressor.predict(x_test)"
   ]
  },
  {
   "cell_type": "code",
   "execution_count": 14,
   "metadata": {},
   "outputs": [
    {
     "name": "stdout",
     "output_type": "stream",
     "text": [
      "[115.06001753 110.53110012  87.52723545  93.07449821  95.69280352\n",
      " 102.48066596 103.6266682  110.02344842  99.86278191  92.50718043\n",
      " 109.70878114 103.27258689 106.45156811  69.50014409  65.37483041\n",
      " 108.97065553  97.83201077 112.79765332  96.04225027 106.76626583\n",
      " 117.69729821 111.44219855  86.93955473  70.15649441  94.85478799\n",
      " 107.24216468 107.28372963  90.61463453  92.63110479  66.67046852\n",
      " 108.65693937 112.98240183  71.34229051  86.38526082 101.17686746\n",
      " 118.57928164 104.78556288 116.24732659 103.66925146 103.55425415\n",
      "  92.36842457 107.9780052  106.49794547  86.2368547   95.42471241\n",
      "  89.18579355  62.634258    90.4817985   95.82363199  89.10896021\n",
      "  80.98081042 100.43182855 112.86019588  93.60456103  97.57779607\n",
      "  70.69785067  90.31645613 107.2705177   98.45330561  99.1065593\n",
      "  91.83984771 105.67785307 105.02435822  99.38195483  84.74892641\n",
      "  90.04350084  85.68346935  79.16528096  95.29237133  80.83462208\n",
      " 105.96834531 106.70216705 106.23770192 102.52505596 105.95385748\n",
      " 105.04035518 107.8414076   65.0382522  110.78246615  99.37057932\n",
      "  91.9654675   99.35111172 102.10109675  70.77847471  90.985373\n",
      " 109.83272892  66.44179061  92.67215517 109.49829655  97.83894596\n",
      "  77.9155448  111.54710146  67.78723691  80.4451294   82.55909269\n",
      " 105.36750978  81.69500704  98.43093659  86.11678492 106.33295726\n",
      "  99.10305208  86.80203951 108.92300213  94.25826516  83.37204984\n",
      "  85.67126868 108.19570674  98.76753252  89.03586661  72.27474924\n",
      " 106.52012808 107.2717046   86.33684626  71.26808041 102.02033907\n",
      " 113.89288557 108.50295305  79.68796791 104.39372671 112.05161909\n",
      " 119.16764426 109.91843752 111.16187872  90.52872557  99.72396403\n",
      "  87.87455552  93.5563759   98.46759034  92.98394077 101.18498791\n",
      "  84.22203338 102.61584321  80.73653338 101.78952367 103.49648359\n",
      " 112.14196985  80.15497749  95.04083138 103.47244842  77.03245364\n",
      "  64.65341152 119.36332631 104.5691583   91.52692682  97.03871789\n",
      "  98.63347746  79.90196857  77.70365206 111.09018391 115.63501231\n",
      " 103.7211287   74.09891053  85.53893144  79.01436545  74.87963667\n",
      " 114.64527988  98.86485179 104.14137611  98.44359478  84.52538509\n",
      "  73.08175759  92.61946241 110.76768802  99.16896366 105.60569933\n",
      " 108.77004548  91.78992065  68.86127546 101.70830609 105.04289628\n",
      "  99.89389052  96.45090151  86.59402977 100.62481452  63.47981534\n",
      " 109.22727748  63.63538405 105.21599393 112.53282729  95.97696157\n",
      "  94.51715352  92.90769811  69.92900227  90.19025483  73.2165733\n",
      "  99.21481085  71.14260707 112.58826435 117.81154718 102.67400675\n",
      "  79.56206256  94.12083452  86.8476536   96.27833357  96.50100539\n",
      "  79.0392845   75.18535622  98.9894712  104.80118713  70.44973054\n",
      "  67.72844466  92.05770596 107.86363121  95.85717519  87.69053926\n",
      " 110.27691832  67.48779993  97.54117903  94.09064035  89.84677181\n",
      " 113.52288832  98.93828368 113.56323061  93.87098021 100.57668401\n",
      " 109.94723954 114.23369272 100.51428085]\n"
     ]
    }
   ],
   "source": [
    "print(predict)"
   ]
  },
  {
   "cell_type": "code",
   "execution_count": 15,
   "metadata": {},
   "outputs": [],
   "source": [
    "dframe = pd.DataFrame({\"Actual\" : y_test.flatten() , 'Predicted' : predict.flatten()})"
   ]
  },
  {
   "cell_type": "code",
   "execution_count": 16,
   "metadata": {},
   "outputs": [
    {
     "data": {
      "text/html": [
       "<div>\n",
       "<style scoped>\n",
       "    .dataframe tbody tr th:only-of-type {\n",
       "        vertical-align: middle;\n",
       "    }\n",
       "\n",
       "    .dataframe tbody tr th {\n",
       "        vertical-align: top;\n",
       "    }\n",
       "\n",
       "    .dataframe thead th {\n",
       "        text-align: right;\n",
       "    }\n",
       "</style>\n",
       "<table border=\"1\" class=\"dataframe\">\n",
       "  <thead>\n",
       "    <tr style=\"text-align: right;\">\n",
       "      <th></th>\n",
       "      <th>Actual</th>\n",
       "      <th>Predicted</th>\n",
       "    </tr>\n",
       "  </thead>\n",
       "  <tbody>\n",
       "    <tr>\n",
       "      <th>0</th>\n",
       "      <td>115.04</td>\n",
       "      <td>115.060018</td>\n",
       "    </tr>\n",
       "    <tr>\n",
       "      <th>1</th>\n",
       "      <td>109.00</td>\n",
       "      <td>110.531100</td>\n",
       "    </tr>\n",
       "    <tr>\n",
       "      <th>2</th>\n",
       "      <td>87.11</td>\n",
       "      <td>87.527235</td>\n",
       "    </tr>\n",
       "    <tr>\n",
       "      <th>3</th>\n",
       "      <td>93.49</td>\n",
       "      <td>93.074498</td>\n",
       "    </tr>\n",
       "    <tr>\n",
       "      <th>4</th>\n",
       "      <td>95.29</td>\n",
       "      <td>95.692804</td>\n",
       "    </tr>\n",
       "    <tr>\n",
       "      <th>5</th>\n",
       "      <td>102.56</td>\n",
       "      <td>102.480666</td>\n",
       "    </tr>\n",
       "    <tr>\n",
       "      <th>6</th>\n",
       "      <td>103.44</td>\n",
       "      <td>103.626668</td>\n",
       "    </tr>\n",
       "    <tr>\n",
       "      <th>7</th>\n",
       "      <td>109.53</td>\n",
       "      <td>110.023448</td>\n",
       "    </tr>\n",
       "    <tr>\n",
       "      <th>8</th>\n",
       "      <td>99.51</td>\n",
       "      <td>99.862782</td>\n",
       "    </tr>\n",
       "    <tr>\n",
       "      <th>9</th>\n",
       "      <td>92.49</td>\n",
       "      <td>92.507180</td>\n",
       "    </tr>\n",
       "    <tr>\n",
       "      <th>10</th>\n",
       "      <td>109.44</td>\n",
       "      <td>109.708781</td>\n",
       "    </tr>\n",
       "    <tr>\n",
       "      <th>11</th>\n",
       "      <td>103.39</td>\n",
       "      <td>103.272587</td>\n",
       "    </tr>\n",
       "    <tr>\n",
       "      <th>12</th>\n",
       "      <td>106.08</td>\n",
       "      <td>106.451568</td>\n",
       "    </tr>\n",
       "    <tr>\n",
       "      <th>13</th>\n",
       "      <td>69.63</td>\n",
       "      <td>69.500144</td>\n",
       "    </tr>\n",
       "    <tr>\n",
       "      <th>14</th>\n",
       "      <td>65.49</td>\n",
       "      <td>65.374830</td>\n",
       "    </tr>\n",
       "    <tr>\n",
       "      <th>15</th>\n",
       "      <td>108.60</td>\n",
       "      <td>108.970656</td>\n",
       "    </tr>\n",
       "    <tr>\n",
       "      <th>16</th>\n",
       "      <td>97.89</td>\n",
       "      <td>97.832011</td>\n",
       "    </tr>\n",
       "    <tr>\n",
       "      <th>17</th>\n",
       "      <td>113.52</td>\n",
       "      <td>112.797653</td>\n",
       "    </tr>\n",
       "    <tr>\n",
       "      <th>18</th>\n",
       "      <td>95.91</td>\n",
       "      <td>96.042250</td>\n",
       "    </tr>\n",
       "    <tr>\n",
       "      <th>19</th>\n",
       "      <td>106.94</td>\n",
       "      <td>106.766266</td>\n",
       "    </tr>\n",
       "    <tr>\n",
       "      <th>20</th>\n",
       "      <td>118.14</td>\n",
       "      <td>117.697298</td>\n",
       "    </tr>\n",
       "    <tr>\n",
       "      <th>21</th>\n",
       "      <td>111.52</td>\n",
       "      <td>111.442199</td>\n",
       "    </tr>\n",
       "    <tr>\n",
       "      <th>22</th>\n",
       "      <td>86.76</td>\n",
       "      <td>86.939555</td>\n",
       "    </tr>\n",
       "    <tr>\n",
       "      <th>23</th>\n",
       "      <td>70.20</td>\n",
       "      <td>70.156494</td>\n",
       "    </tr>\n",
       "    <tr>\n",
       "      <th>24</th>\n",
       "      <td>95.65</td>\n",
       "      <td>94.854788</td>\n",
       "    </tr>\n",
       "  </tbody>\n",
       "</table>\n",
       "</div>"
      ],
      "text/plain": [
       "    Actual   Predicted\n",
       "0   115.04  115.060018\n",
       "1   109.00  110.531100\n",
       "2    87.11   87.527235\n",
       "3    93.49   93.074498\n",
       "4    95.29   95.692804\n",
       "5   102.56  102.480666\n",
       "6   103.44  103.626668\n",
       "7   109.53  110.023448\n",
       "8    99.51   99.862782\n",
       "9    92.49   92.507180\n",
       "10  109.44  109.708781\n",
       "11  103.39  103.272587\n",
       "12  106.08  106.451568\n",
       "13   69.63   69.500144\n",
       "14   65.49   65.374830\n",
       "15  108.60  108.970656\n",
       "16   97.89   97.832011\n",
       "17  113.52  112.797653\n",
       "18   95.91   96.042250\n",
       "19  106.94  106.766266\n",
       "20  118.14  117.697298\n",
       "21  111.52  111.442199\n",
       "22   86.76   86.939555\n",
       "23   70.20   70.156494\n",
       "24   95.65   94.854788"
      ]
     },
     "execution_count": 16,
     "metadata": {},
     "output_type": "execute_result"
    }
   ],
   "source": [
    "dframe.head(25)"
   ]
  },
  {
   "cell_type": "code",
   "execution_count": 17,
   "metadata": {},
   "outputs": [
    {
     "name": "stdout",
     "output_type": "stream",
     "text": [
      "Mean Absolute Error :  0.30050158157971163\n",
      "Mean Squared Error :  0.1895704655093789\n",
      "Root Mean Squared Error :  0.43539690571865447\n"
     ]
    }
   ],
   "source": [
    "print(\"Mean Absolute Error : \", metrics.mean_absolute_error(y_test,predict))\n",
    "print(\"Mean Squared Error : \",metrics.mean_squared_error(y_test,predict))\n",
    "print(\"Root Mean Squared Error : \",np.sqrt(metrics.mean_squared_error(y_test,predict)))"
   ]
  },
  {
   "cell_type": "code",
   "execution_count": 18,
   "metadata": {},
   "outputs": [],
   "source": [
    "graph = dframe.head(20)"
   ]
  },
  {
   "cell_type": "code",
   "execution_count": 20,
   "metadata": {},
   "outputs": [
    {
     "data": {
      "image/png": "[encoded data removed]",
      "text/plain": [
       "<Figure size 1152x576 with 1 Axes>"
      ]
     },
     "metadata": {},
     "output_type": "display_data"
    }
   ],
   "source": [
    "#visualising the dataset\n",
    "plt.figure(figsize=(16,8))\n",
    "plt.title(\"Walt. Disney\")\n",
    "plt.xlabel('Days')\n",
    "plt.ylabel('Close price in USD ($)')\n",
    "plt.plot( graph)\n",
    "plt.legend(['Actual','Prediction'])\n",
    "plt.show()"
   ]
  },
  {
   "cell_type": "code",
   "execution_count": null,
   "metadata": {},
   "outputs": [],
   "source": []
  }
 ],
 "metadata": {
  "kernelspec": {
   "display_name": "Python 3",
   "language": "python",
   "name": "python3"
  },
  "language_info": {
   "codemirror_mode": {
    "name": "ipython",
    "version": 3
   },
   "file_extension": ".py",
   "mimetype": "text/x-python",
   "name": "python",
   "nbconvert_exporter": "python",
   "pygments_lexer": "ipython3",
   "version": "3.7.8"
  }
 },
 "nbformat": 4,
 "nbformat_minor": 4
}
