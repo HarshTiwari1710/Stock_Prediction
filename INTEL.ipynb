{
 "cells": [
  {
   "cell_type": "code",
   "execution_count": 1,
   "metadata": {},
   "outputs": [],
   "source": [
    "import numpy as np\n",
    "import matplotlib.pyplot as plt\n",
    "import pandas as pd \n",
    "from sklearn.linear_model import LinearRegression\n",
    "from sklearn.model_selection import train_test_split\n",
    "from sklearn import metrics"
   ]
  },
  {
   "cell_type": "code",
   "execution_count": 4,
   "metadata": {},
   "outputs": [],
   "source": [
    "plt.style.use(\"seaborn\")\n",
    "#loading the data \n",
    "df = pd.read_csv(r\"EOD-INTC.csv\")"
   ]
  },
  {
   "cell_type": "code",
   "execution_count": 5,
   "metadata": {},
   "outputs": [
    {
     "name": "stdout",
     "output_type": "stream",
     "text": [
      "         Date   Open   High    Low  Close      Volume  Dividend  Split  \\\n",
      "0  2017-12-28  46.36  46.36  45.95  46.22   9504372.0       0.0    1.0   \n",
      "1  2017-12-27  46.11  46.36  46.00  46.11  13359671.0       0.0    1.0   \n",
      "2  2017-12-26  46.28  46.47  45.95  46.08  15533328.0       0.0    1.0   \n",
      "3  2017-12-22  46.33  47.02  46.02  46.70  33913537.0       0.0    1.0   \n",
      "4  2017-12-21  47.54  47.59  46.56  46.76  42963451.0       0.0    1.0   \n",
      "\n",
      "    Adj_Open   Adj_High    Adj_Low  Adj_Close  Adj_Volume  \n",
      "0  43.376312  43.376312  42.992699  43.245322   9504372.0  \n",
      "1  43.142402  43.376312  43.039481  43.142402  13359671.0  \n",
      "2  43.301461  43.479233  42.992699  43.114333  15533328.0  \n",
      "3  43.348243  43.993835  43.058194  43.694430  33913537.0  \n",
      "4  44.480368  44.527150  43.563440  43.750569  42963451.0  \n"
     ]
    }
   ],
   "source": [
    "print(df.head())"
   ]
  },
  {
   "cell_type": "code",
   "execution_count": 6,
   "metadata": {},
   "outputs": [
    {
     "data": {
      "text/html": [
       "<div>\n",
       "<style scoped>\n",
       "    .dataframe tbody tr th:only-of-type {\n",
       "        vertical-align: middle;\n",
       "    }\n",
       "\n",
       "    .dataframe tbody tr th {\n",
       "        vertical-align: top;\n",
       "    }\n",
       "\n",
       "    .dataframe thead th {\n",
       "        text-align: right;\n",
       "    }\n",
       "</style>\n",
       "<table border=\"1\" class=\"dataframe\">\n",
       "  <thead>\n",
       "    <tr style=\"text-align: right;\">\n",
       "      <th></th>\n",
       "      <th>Open</th>\n",
       "      <th>High</th>\n",
       "      <th>Low</th>\n",
       "      <th>Close</th>\n",
       "      <th>Volume</th>\n",
       "      <th>Dividend</th>\n",
       "      <th>Split</th>\n",
       "      <th>Adj_Open</th>\n",
       "      <th>Adj_High</th>\n",
       "      <th>Adj_Low</th>\n",
       "      <th>Adj_Close</th>\n",
       "      <th>Adj_Volume</th>\n",
       "    </tr>\n",
       "  </thead>\n",
       "  <tbody>\n",
       "    <tr>\n",
       "      <th>count</th>\n",
       "      <td>1090.000000</td>\n",
       "      <td>1090.000000</td>\n",
       "      <td>1090.000000</td>\n",
       "      <td>1090.000000</td>\n",
       "      <td>1.090000e+03</td>\n",
       "      <td>1090.000000</td>\n",
       "      <td>1090.0</td>\n",
       "      <td>1090.000000</td>\n",
       "      <td>1090.000000</td>\n",
       "      <td>1090.000000</td>\n",
       "      <td>1090.000000</td>\n",
       "      <td>1.090000e+03</td>\n",
       "    </tr>\n",
       "    <tr>\n",
       "      <th>mean</th>\n",
       "      <td>32.630198</td>\n",
       "      <td>32.914932</td>\n",
       "      <td>32.366546</td>\n",
       "      <td>32.662958</td>\n",
       "      <td>2.751649e+07</td>\n",
       "      <td>0.003856</td>\n",
       "      <td>1.0</td>\n",
       "      <td>28.803161</td>\n",
       "      <td>29.053664</td>\n",
       "      <td>28.570653</td>\n",
       "      <td>28.831914</td>\n",
       "      <td>2.751649e+07</td>\n",
       "    </tr>\n",
       "    <tr>\n",
       "      <th>std</th>\n",
       "      <td>4.878730</td>\n",
       "      <td>4.903212</td>\n",
       "      <td>4.834242</td>\n",
       "      <td>4.879762</td>\n",
       "      <td>1.278323e+07</td>\n",
       "      <td>0.030726</td>\n",
       "      <td>0.0</td>\n",
       "      <td>5.179240</td>\n",
       "      <td>5.205220</td>\n",
       "      <td>5.135358</td>\n",
       "      <td>5.180631</td>\n",
       "      <td>1.278323e+07</td>\n",
       "    </tr>\n",
       "    <tr>\n",
       "      <th>min</th>\n",
       "      <td>22.210000</td>\n",
       "      <td>22.240000</td>\n",
       "      <td>21.970000</td>\n",
       "      <td>22.067000</td>\n",
       "      <td>5.893789e+06</td>\n",
       "      <td>0.000000</td>\n",
       "      <td>1.0</td>\n",
       "      <td>18.230621</td>\n",
       "      <td>18.255246</td>\n",
       "      <td>18.033622</td>\n",
       "      <td>18.113242</td>\n",
       "      <td>5.893789e+06</td>\n",
       "    </tr>\n",
       "    <tr>\n",
       "      <th>25%</th>\n",
       "      <td>29.662500</td>\n",
       "      <td>30.035000</td>\n",
       "      <td>29.452500</td>\n",
       "      <td>29.737500</td>\n",
       "      <td>1.997469e+07</td>\n",
       "      <td>0.000000</td>\n",
       "      <td>1.0</td>\n",
       "      <td>25.858290</td>\n",
       "      <td>26.152602</td>\n",
       "      <td>25.545121</td>\n",
       "      <td>25.945847</td>\n",
       "      <td>1.997469e+07</td>\n",
       "    </tr>\n",
       "    <tr>\n",
       "      <th>50%</th>\n",
       "      <td>33.615000</td>\n",
       "      <td>33.950000</td>\n",
       "      <td>33.245000</td>\n",
       "      <td>33.640000</td>\n",
       "      <td>2.456095e+07</td>\n",
       "      <td>0.000000</td>\n",
       "      <td>1.0</td>\n",
       "      <td>28.915334</td>\n",
       "      <td>29.161248</td>\n",
       "      <td>28.688309</td>\n",
       "      <td>28.967708</td>\n",
       "      <td>2.456095e+07</td>\n",
       "    </tr>\n",
       "    <tr>\n",
       "      <th>75%</th>\n",
       "      <td>35.590000</td>\n",
       "      <td>35.890000</td>\n",
       "      <td>35.317500</td>\n",
       "      <td>35.597500</td>\n",
       "      <td>3.111780e+07</td>\n",
       "      <td>0.000000</td>\n",
       "      <td>1.0</td>\n",
       "      <td>32.141381</td>\n",
       "      <td>32.392136</td>\n",
       "      <td>32.003201</td>\n",
       "      <td>32.222476</td>\n",
       "      <td>3.111780e+07</td>\n",
       "    </tr>\n",
       "    <tr>\n",
       "      <th>max</th>\n",
       "      <td>47.540000</td>\n",
       "      <td>47.640000</td>\n",
       "      <td>46.660000</td>\n",
       "      <td>47.560000</td>\n",
       "      <td>1.358932e+08</td>\n",
       "      <td>0.272500</td>\n",
       "      <td>1.0</td>\n",
       "      <td>44.480368</td>\n",
       "      <td>44.573933</td>\n",
       "      <td>43.657004</td>\n",
       "      <td>44.499081</td>\n",
       "      <td>1.358932e+08</td>\n",
       "    </tr>\n",
       "  </tbody>\n",
       "</table>\n",
       "</div>"
      ],
      "text/plain": [
       "              Open         High          Low        Close        Volume  \\\n",
       "count  1090.000000  1090.000000  1090.000000  1090.000000  1.090000e+03   \n",
       "mean     32.630198    32.914932    32.366546    32.662958  2.751649e+07   \n",
       "std       4.878730     4.903212     4.834242     4.879762  1.278323e+07   \n",
       "min      22.210000    22.240000    21.970000    22.067000  5.893789e+06   \n",
       "25%      29.662500    30.035000    29.452500    29.737500  1.997469e+07   \n",
       "50%      33.615000    33.950000    33.245000    33.640000  2.456095e+07   \n",
       "75%      35.590000    35.890000    35.317500    35.597500  3.111780e+07   \n",
       "max      47.540000    47.640000    46.660000    47.560000  1.358932e+08   \n",
       "\n",
       "          Dividend   Split     Adj_Open     Adj_High      Adj_Low  \\\n",
       "count  1090.000000  1090.0  1090.000000  1090.000000  1090.000000   \n",
       "mean      0.003856     1.0    28.803161    29.053664    28.570653   \n",
       "std       0.030726     0.0     5.179240     5.205220     5.135358   \n",
       "min       0.000000     1.0    18.230621    18.255246    18.033622   \n",
       "25%       0.000000     1.0    25.858290    26.152602    25.545121   \n",
       "50%       0.000000     1.0    28.915334    29.161248    28.688309   \n",
       "75%       0.000000     1.0    32.141381    32.392136    32.003201   \n",
       "max       0.272500     1.0    44.480368    44.573933    43.657004   \n",
       "\n",
       "         Adj_Close    Adj_Volume  \n",
       "count  1090.000000  1.090000e+03  \n",
       "mean     28.831914  2.751649e+07  \n",
       "std       5.180631  1.278323e+07  \n",
       "min      18.113242  5.893789e+06  \n",
       "25%      25.945847  1.997469e+07  \n",
       "50%      28.967708  2.456095e+07  \n",
       "75%      32.222476  3.111780e+07  \n",
       "max      44.499081  1.358932e+08  "
      ]
     },
     "execution_count": 6,
     "metadata": {},
     "output_type": "execute_result"
    }
   ],
   "source": [
    "df.describe()"
   ]
  },
  {
   "cell_type": "code",
   "execution_count": 7,
   "metadata": {},
   "outputs": [],
   "source": [
    "x = df[['High', 'Low','Open','Volume']].values\n",
    "y = df['Close'].values"
   ]
  },
  {
   "cell_type": "code",
   "execution_count": 8,
   "metadata": {},
   "outputs": [],
   "source": [
    "x_train,x_test,y_train,y_test = train_test_split(x,y,test_size = 0.2,random_state = 0)"
   ]
  },
  {
   "cell_type": "code",
   "execution_count": 9,
   "metadata": {},
   "outputs": [],
   "source": [
    "regressor =  LinearRegression()"
   ]
  },
  {
   "cell_type": "code",
   "execution_count": 10,
   "metadata": {},
   "outputs": [
    {
     "data": {
      "text/plain": [
       "LinearRegression()"
      ]
     },
     "execution_count": 10,
     "metadata": {},
     "output_type": "execute_result"
    }
   ],
   "source": [
    "regressor.fit(x_train,y_train)"
   ]
  },
  {
   "cell_type": "code",
   "execution_count": 11,
   "metadata": {},
   "outputs": [
    {
     "name": "stdout",
     "output_type": "stream",
     "text": [
      "[ 7.76821070e-01  7.04472913e-01 -4.78864703e-01  2.33431829e-10]\n"
     ]
    }
   ],
   "source": [
    "print(regressor.coef_)"
   ]
  },
  {
   "cell_type": "code",
   "execution_count": 12,
   "metadata": {},
   "outputs": [
    {
     "name": "stdout",
     "output_type": "stream",
     "text": [
      "-0.08915214990260978\n"
     ]
    }
   ],
   "source": [
    "print(regressor.intercept_)"
   ]
  },
  {
   "cell_type": "code",
   "execution_count": 13,
   "metadata": {},
   "outputs": [],
   "source": [
    "predict = regressor.predict(x_test)"
   ]
  },
  {
   "cell_type": "code",
   "execution_count": 14,
   "metadata": {},
   "outputs": [
    {
     "name": "stdout",
     "output_type": "stream",
     "text": [
      "[33.96589778 36.44390497 33.60707607 34.95746686 29.85878027 34.66185985\n",
      " 45.00955499 32.18452677 30.93687849 37.98472287 32.98095796 32.12621793\n",
      " 36.62356027 24.61673369 22.67288143 32.52170863 36.14127149 34.76321242\n",
      " 34.61213096 34.8310116  33.04377979 35.36697118 31.4816734  24.03136755\n",
      " 29.27856744 36.56025303 32.69318244 33.63617375 37.5980531  23.33413823\n",
      " 32.52184693 36.20645944 24.94467557 33.96945653 28.70068465 29.77783801\n",
      " 45.80642567 32.6434416  29.23696587 29.35055175 37.78495982 36.79002089\n",
      " 31.17665206 34.01897176 34.70658057 34.63635434 22.99227547 34.72147466\n",
      " 34.98596991 36.02622111 25.99281514 34.60421481 34.96681356 29.68032799\n",
      " 34.68933021 24.06074609 35.01730609 30.94021745 37.15377745 32.22240318\n",
      " 36.71659889 33.91305757 43.11377296 30.92787934 32.04655166 28.15998121\n",
      " 33.5460578  25.52837    30.96428469 24.77617877 36.45329801 32.34370539\n",
      " 35.13752251 29.3397151  32.22097053 43.99581483 46.25269381 22.80764579\n",
      " 31.54446016 35.86499663 37.35080472 32.11221611 32.95167589 23.83384009\n",
      " 33.30737421 34.61923589 23.58318828 37.47978002 35.51233266 29.69232624\n",
      " 24.52763095 34.93776799 24.35708719 24.66804517 30.07717609 37.23888621\n",
      " 26.39311298 32.38660112 34.43678744 31.35756504 39.57290264 31.24628453\n",
      " 32.17202103 35.74270271 29.80121049 33.93314928 36.40766385 31.69263484\n",
      " 35.47121139 24.84203144 43.28156957 28.90766454 31.32193421 23.59137832\n",
      " 29.72722315 34.73721563 36.74257732 26.5296142  36.61828752 35.18476079\n",
      " 28.27188464 31.28801195 32.81611307 34.95915627 34.14997953 34.20273314\n",
      " 36.46399078 40.8566245  35.07704814 32.51289938 27.18914497 32.00128426\n",
      " 24.52893965 36.32456524 29.58593806 35.31246084 24.8104305  30.76268077\n",
      " 33.85612945 26.63868169 22.95865795 28.67763002 36.36392313 34.31606283\n",
      " 35.27388795 34.79407216 26.84333685 24.43826802 35.79651503 29.42419607\n",
      " 34.30589084 26.34812076 28.14680733 25.63524371 26.94127792 36.02493226\n",
      " 31.42152399 34.37224113 31.6286889  28.06526509 25.30968888 28.61847703\n",
      " 47.06715786 29.17349413 28.98068052 46.22202089 36.96409028 23.86901204\n",
      " 35.0766714  30.92939686 35.03172211 35.0993798  32.78058991 33.68539625\n",
      " 22.81340517 32.30052153 22.80068032 34.18709897 34.82676142 26.84669437\n",
      " 35.8470496  37.65935782 24.3863123  34.97740021 24.68753297 34.00100921\n",
      " 24.89177771 34.30503105 29.62902148 28.25259157 26.78867646 36.49177633\n",
      " 31.24407827 34.95823701 31.51121171 24.57781592 23.92051402 37.40428916\n",
      " 35.75531336 24.16171298 24.09314577 35.62455248 32.8469583  35.08174382\n",
      " 33.93992325 33.36272356 24.00785415 26.8381478  36.51303665 34.98182235\n",
      " 36.13406485 31.47063318 34.40957081 34.95395303 39.54602134 36.05128987\n",
      " 32.06153799 35.03433385]\n"
     ]
    }
   ],
   "source": [
    "print(predict)"
   ]
  },
  {
   "cell_type": "code",
   "execution_count": 15,
   "metadata": {},
   "outputs": [],
   "source": [
    "dframe = pd.DataFrame({\"Actual\" : y_test.flatten() , 'Predicted' : predict.flatten()})"
   ]
  },
  {
   "cell_type": "code",
   "execution_count": 16,
   "metadata": {},
   "outputs": [
    {
     "data": {
      "text/html": [
       "<div>\n",
       "<style scoped>\n",
       "    .dataframe tbody tr th:only-of-type {\n",
       "        vertical-align: middle;\n",
       "    }\n",
       "\n",
       "    .dataframe tbody tr th {\n",
       "        vertical-align: top;\n",
       "    }\n",
       "\n",
       "    .dataframe thead th {\n",
       "        text-align: right;\n",
       "    }\n",
       "</style>\n",
       "<table border=\"1\" class=\"dataframe\">\n",
       "  <thead>\n",
       "    <tr style=\"text-align: right;\">\n",
       "      <th></th>\n",
       "      <th>Actual</th>\n",
       "      <th>Predicted</th>\n",
       "    </tr>\n",
       "  </thead>\n",
       "  <tbody>\n",
       "    <tr>\n",
       "      <th>0</th>\n",
       "      <td>34.030</td>\n",
       "      <td>33.965898</td>\n",
       "    </tr>\n",
       "    <tr>\n",
       "      <th>1</th>\n",
       "      <td>36.380</td>\n",
       "      <td>36.443905</td>\n",
       "    </tr>\n",
       "    <tr>\n",
       "      <th>2</th>\n",
       "      <td>33.470</td>\n",
       "      <td>33.607076</td>\n",
       "    </tr>\n",
       "    <tr>\n",
       "      <th>3</th>\n",
       "      <td>34.920</td>\n",
       "      <td>34.957467</td>\n",
       "    </tr>\n",
       "    <tr>\n",
       "      <th>4</th>\n",
       "      <td>29.600</td>\n",
       "      <td>29.858780</td>\n",
       "    </tr>\n",
       "    <tr>\n",
       "      <th>5</th>\n",
       "      <td>34.650</td>\n",
       "      <td>34.661860</td>\n",
       "    </tr>\n",
       "    <tr>\n",
       "      <th>6</th>\n",
       "      <td>44.630</td>\n",
       "      <td>45.009555</td>\n",
       "    </tr>\n",
       "    <tr>\n",
       "      <th>7</th>\n",
       "      <td>32.080</td>\n",
       "      <td>32.184527</td>\n",
       "    </tr>\n",
       "    <tr>\n",
       "      <th>8</th>\n",
       "      <td>31.060</td>\n",
       "      <td>30.936878</td>\n",
       "    </tr>\n",
       "    <tr>\n",
       "      <th>9</th>\n",
       "      <td>38.100</td>\n",
       "      <td>37.984723</td>\n",
       "    </tr>\n",
       "    <tr>\n",
       "      <th>10</th>\n",
       "      <td>33.105</td>\n",
       "      <td>32.980958</td>\n",
       "    </tr>\n",
       "    <tr>\n",
       "      <th>11</th>\n",
       "      <td>32.315</td>\n",
       "      <td>32.126218</td>\n",
       "    </tr>\n",
       "    <tr>\n",
       "      <th>12</th>\n",
       "      <td>36.600</td>\n",
       "      <td>36.623560</td>\n",
       "    </tr>\n",
       "    <tr>\n",
       "      <th>13</th>\n",
       "      <td>24.470</td>\n",
       "      <td>24.616734</td>\n",
       "    </tr>\n",
       "    <tr>\n",
       "      <th>14</th>\n",
       "      <td>22.630</td>\n",
       "      <td>22.672881</td>\n",
       "    </tr>\n",
       "    <tr>\n",
       "      <th>15</th>\n",
       "      <td>32.690</td>\n",
       "      <td>32.521709</td>\n",
       "    </tr>\n",
       "    <tr>\n",
       "      <th>16</th>\n",
       "      <td>36.090</td>\n",
       "      <td>36.141271</td>\n",
       "    </tr>\n",
       "    <tr>\n",
       "      <th>17</th>\n",
       "      <td>34.590</td>\n",
       "      <td>34.763212</td>\n",
       "    </tr>\n",
       "    <tr>\n",
       "      <th>18</th>\n",
       "      <td>34.770</td>\n",
       "      <td>34.612131</td>\n",
       "    </tr>\n",
       "    <tr>\n",
       "      <th>19</th>\n",
       "      <td>34.750</td>\n",
       "      <td>34.831012</td>\n",
       "    </tr>\n",
       "    <tr>\n",
       "      <th>20</th>\n",
       "      <td>33.160</td>\n",
       "      <td>33.043780</td>\n",
       "    </tr>\n",
       "    <tr>\n",
       "      <th>21</th>\n",
       "      <td>35.160</td>\n",
       "      <td>35.366971</td>\n",
       "    </tr>\n",
       "    <tr>\n",
       "      <th>22</th>\n",
       "      <td>31.490</td>\n",
       "      <td>31.481673</td>\n",
       "    </tr>\n",
       "    <tr>\n",
       "      <th>23</th>\n",
       "      <td>23.870</td>\n",
       "      <td>24.031368</td>\n",
       "    </tr>\n",
       "    <tr>\n",
       "      <th>24</th>\n",
       "      <td>29.620</td>\n",
       "      <td>29.278567</td>\n",
       "    </tr>\n",
       "  </tbody>\n",
       "</table>\n",
       "</div>"
      ],
      "text/plain": [
       "    Actual  Predicted\n",
       "0   34.030  33.965898\n",
       "1   36.380  36.443905\n",
       "2   33.470  33.607076\n",
       "3   34.920  34.957467\n",
       "4   29.600  29.858780\n",
       "5   34.650  34.661860\n",
       "6   44.630  45.009555\n",
       "7   32.080  32.184527\n",
       "8   31.060  30.936878\n",
       "9   38.100  37.984723\n",
       "10  33.105  32.980958\n",
       "11  32.315  32.126218\n",
       "12  36.600  36.623560\n",
       "13  24.470  24.616734\n",
       "14  22.630  22.672881\n",
       "15  32.690  32.521709\n",
       "16  36.090  36.141271\n",
       "17  34.590  34.763212\n",
       "18  34.770  34.612131\n",
       "19  34.750  34.831012\n",
       "20  33.160  33.043780\n",
       "21  35.160  35.366971\n",
       "22  31.490  31.481673\n",
       "23  23.870  24.031368\n",
       "24  29.620  29.278567"
      ]
     },
     "execution_count": 16,
     "metadata": {},
     "output_type": "execute_result"
    }
   ],
   "source": [
    "dframe.head(25)"
   ]
  },
  {
   "cell_type": "code",
   "execution_count": 17,
   "metadata": {},
   "outputs": [
    {
     "name": "stdout",
     "output_type": "stream",
     "text": [
      "Mean Absolute Error :  0.13330104651136257\n",
      "Mean Squared Error :  0.03212295551654053\n",
      "Root Mean Squared Error :  0.17922877982216062\n"
     ]
    }
   ],
   "source": [
    "print(\"Mean Absolute Error : \", metrics.mean_absolute_error(y_test,predict))\n",
    "print(\"Mean Squared Error : \",metrics.mean_squared_error(y_test,predict))\n",
    "print(\"Root Mean Squared Error : \",np.sqrt(metrics.mean_squared_error(y_test,predict)))"
   ]
  },
  {
   "cell_type": "code",
   "execution_count": 18,
   "metadata": {},
   "outputs": [],
   "source": [
    "graph = dframe.head(20)"
   ]
  },
  {
   "cell_type": "code",
   "execution_count": 21,
   "metadata": {},
   "outputs": [
    {
     "data": {
      "image/png": "[encoded data removed]",
      "text/plain": [
       "<Figure size 1152x576 with 1 Axes>"
      ]
     },
     "metadata": {},
     "output_type": "display_data"
    }
   ],
   "source": [
    "#visualising the dataset\n",
    "plt.figure(figsize=(16,8))\n",
    "plt.title(\"Intel\")\n",
    "plt.xlabel('Days')\n",
    "plt.ylabel('Close price in USD ($)')\n",
    "plt.plot( graph)\n",
    "plt.legend(['Actual','Prediction'])\n",
    "plt.show()"
   ]
  },
  {
   "cell_type": "code",
   "execution_count": null,
   "metadata": {},
   "outputs": [],
   "source": []
  }
 ],
 "metadata": {
  "kernelspec": {
   "display_name": "Python 3",
   "language": "python",
   "name": "python3"
  },
  "language_info": {
   "codemirror_mode": {
    "name": "ipython",
    "version": 3
   },
   "file_extension": ".py",
   "mimetype": "text/x-python",
   "name": "python",
   "nbconvert_exporter": "python",
   "pygments_lexer": "ipython3",
   "version": "3.7.8"
  }
 },
 "nbformat": 4,
 "nbformat_minor": 4
}
