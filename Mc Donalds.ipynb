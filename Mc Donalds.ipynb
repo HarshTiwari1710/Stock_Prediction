{
 "cells": [
  {
   "cell_type": "code",
   "execution_count": 1,
   "metadata": {},
   "outputs": [],
   "source": [
    "import numpy as np\n",
    "import matplotlib.pyplot as plt\n",
    "import pandas as pd \n",
    "from sklearn.linear_model import LinearRegression\n",
    "from sklearn.model_selection import train_test_split\n",
    "from sklearn import metrics\n",
    "import seaborn as sns"
   ]
  },
  {
   "cell_type": "code",
   "execution_count": 2,
   "metadata": {},
   "outputs": [],
   "source": [
    "plt.style.use(\"seaborn\")\n",
    "#loading the data \n",
    "df = pd.read_csv(r\"EOD-MCD (1).csv\")"
   ]
  },
  {
   "cell_type": "code",
   "execution_count": 3,
   "metadata": {},
   "outputs": [
    {
     "name": "stdout",
     "output_type": "stream",
     "text": [
      "         Date     Open    High      Low   Close     Volume  Dividend  Split  \\\n",
      "0  2017-12-28  173.260  173.55  172.620  173.10  1800068.0       0.0    1.0   \n",
      "1  2017-12-27  171.330  172.74  170.845  172.67  1596817.0       0.0    1.0   \n",
      "2  2017-12-26  171.090  171.64  170.820  171.29  1280227.0       0.0    1.0   \n",
      "3  2017-12-22  171.375  172.04  170.550  171.42  3234143.0       0.0    1.0   \n",
      "4  2017-12-21  172.680  172.75  171.670  171.85  2341676.0       0.0    1.0   \n",
      "\n",
      "     Adj_Open    Adj_High     Adj_Low   Adj_Close  Adj_Volume  \n",
      "0  161.897781  162.168763  161.299752  161.748274   1800068.0  \n",
      "1  160.094349  161.411882  159.641154  161.346473   1596817.0  \n",
      "2  159.870088  160.384019  159.617794  160.056972   1280227.0  \n",
      "3  160.136398  160.757788  159.365500  160.178447   3234143.0  \n",
      "4  161.355817  161.421226  160.412052  160.580248   2341676.0  \n"
     ]
    }
   ],
   "source": [
    "print(df.head())"
   ]
  },
  {
   "cell_type": "code",
   "execution_count": 4,
   "metadata": {},
   "outputs": [
    {
     "data": {
      "text/html": [
       "<div>\n",
       "<style scoped>\n",
       "    .dataframe tbody tr th:only-of-type {\n",
       "        vertical-align: middle;\n",
       "    }\n",
       "\n",
       "    .dataframe tbody tr th {\n",
       "        vertical-align: top;\n",
       "    }\n",
       "\n",
       "    .dataframe thead th {\n",
       "        text-align: right;\n",
       "    }\n",
       "</style>\n",
       "<table border=\"1\" class=\"dataframe\">\n",
       "  <thead>\n",
       "    <tr style=\"text-align: right;\">\n",
       "      <th></th>\n",
       "      <th>Open</th>\n",
       "      <th>High</th>\n",
       "      <th>Low</th>\n",
       "      <th>Close</th>\n",
       "      <th>Volume</th>\n",
       "      <th>Dividend</th>\n",
       "      <th>Split</th>\n",
       "      <th>Adj_Open</th>\n",
       "      <th>Adj_High</th>\n",
       "      <th>Adj_Low</th>\n",
       "      <th>Adj_Close</th>\n",
       "      <th>Adj_Volume</th>\n",
       "    </tr>\n",
       "  </thead>\n",
       "  <tbody>\n",
       "    <tr>\n",
       "      <th>count</th>\n",
       "      <td>1090.000000</td>\n",
       "      <td>1090.000000</td>\n",
       "      <td>1090.000000</td>\n",
       "      <td>1090.000000</td>\n",
       "      <td>1.090000e+03</td>\n",
       "      <td>1090.000000</td>\n",
       "      <td>1090.0</td>\n",
       "      <td>1090.000000</td>\n",
       "      <td>1090.000000</td>\n",
       "      <td>1090.000000</td>\n",
       "      <td>1090.000000</td>\n",
       "      <td>1.090000e+03</td>\n",
       "    </tr>\n",
       "    <tr>\n",
       "      <th>mean</th>\n",
       "      <td>114.703959</td>\n",
       "      <td>115.409605</td>\n",
       "      <td>114.078441</td>\n",
       "      <td>114.762578</td>\n",
       "      <td>5.202166e+06</td>\n",
       "      <td>0.013734</td>\n",
       "      <td>1.0</td>\n",
       "      <td>101.266148</td>\n",
       "      <td>101.888739</td>\n",
       "      <td>100.714383</td>\n",
       "      <td>101.318265</td>\n",
       "      <td>5.202166e+06</td>\n",
       "    </tr>\n",
       "    <tr>\n",
       "      <th>std</th>\n",
       "      <td>22.505638</td>\n",
       "      <td>22.596884</td>\n",
       "      <td>22.418832</td>\n",
       "      <td>22.523906</td>\n",
       "      <td>2.603023e+06</td>\n",
       "      <td>0.109392</td>\n",
       "      <td>0.0</td>\n",
       "      <td>23.749267</td>\n",
       "      <td>23.855102</td>\n",
       "      <td>23.651463</td>\n",
       "      <td>23.767304</td>\n",
       "      <td>2.603023e+06</td>\n",
       "    </tr>\n",
       "    <tr>\n",
       "      <th>min</th>\n",
       "      <td>88.070000</td>\n",
       "      <td>89.820000</td>\n",
       "      <td>87.500000</td>\n",
       "      <td>88.460000</td>\n",
       "      <td>9.632330e+05</td>\n",
       "      <td>0.000000</td>\n",
       "      <td>1.0</td>\n",
       "      <td>75.254904</td>\n",
       "      <td>76.476285</td>\n",
       "      <td>74.870383</td>\n",
       "      <td>75.588155</td>\n",
       "      <td>9.632330e+05</td>\n",
       "    </tr>\n",
       "    <tr>\n",
       "      <th>25%</th>\n",
       "      <td>96.270000</td>\n",
       "      <td>96.955000</td>\n",
       "      <td>95.810000</td>\n",
       "      <td>96.290000</td>\n",
       "      <td>3.542037e+06</td>\n",
       "      <td>0.000000</td>\n",
       "      <td>1.0</td>\n",
       "      <td>80.998535</td>\n",
       "      <td>81.666781</td>\n",
       "      <td>80.424115</td>\n",
       "      <td>81.130713</td>\n",
       "      <td>3.542037e+06</td>\n",
       "    </tr>\n",
       "    <tr>\n",
       "      <th>50%</th>\n",
       "      <td>111.495000</td>\n",
       "      <td>112.155000</td>\n",
       "      <td>110.670000</td>\n",
       "      <td>111.155000</td>\n",
       "      <td>4.582361e+06</td>\n",
       "      <td>0.000000</td>\n",
       "      <td>1.0</td>\n",
       "      <td>98.028850</td>\n",
       "      <td>98.620864</td>\n",
       "      <td>97.173717</td>\n",
       "      <td>98.313894</td>\n",
       "      <td>4.582361e+06</td>\n",
       "    </tr>\n",
       "    <tr>\n",
       "      <th>75%</th>\n",
       "      <td>124.087500</td>\n",
       "      <td>124.747500</td>\n",
       "      <td>123.377500</td>\n",
       "      <td>124.052500</td>\n",
       "      <td>6.217050e+06</td>\n",
       "      <td>0.000000</td>\n",
       "      <td>1.0</td>\n",
       "      <td>112.030999</td>\n",
       "      <td>112.807727</td>\n",
       "      <td>111.648037</td>\n",
       "      <td>112.080686</td>\n",
       "      <td>6.217050e+06</td>\n",
       "    </tr>\n",
       "    <tr>\n",
       "      <th>max</th>\n",
       "      <td>174.990000</td>\n",
       "      <td>175.780000</td>\n",
       "      <td>174.110000</td>\n",
       "      <td>174.200000</td>\n",
       "      <td>2.525932e+07</td>\n",
       "      <td>1.010000</td>\n",
       "      <td>1.0</td>\n",
       "      <td>163.514329</td>\n",
       "      <td>164.252522</td>\n",
       "      <td>162.692039</td>\n",
       "      <td>162.776137</td>\n",
       "      <td>2.525932e+07</td>\n",
       "    </tr>\n",
       "  </tbody>\n",
       "</table>\n",
       "</div>"
      ],
      "text/plain": [
       "              Open         High          Low        Close        Volume  \\\n",
       "count  1090.000000  1090.000000  1090.000000  1090.000000  1.090000e+03   \n",
       "mean    114.703959   115.409605   114.078441   114.762578  5.202166e+06   \n",
       "std      22.505638    22.596884    22.418832    22.523906  2.603023e+06   \n",
       "min      88.070000    89.820000    87.500000    88.460000  9.632330e+05   \n",
       "25%      96.270000    96.955000    95.810000    96.290000  3.542037e+06   \n",
       "50%     111.495000   112.155000   110.670000   111.155000  4.582361e+06   \n",
       "75%     124.087500   124.747500   123.377500   124.052500  6.217050e+06   \n",
       "max     174.990000   175.780000   174.110000   174.200000  2.525932e+07   \n",
       "\n",
       "          Dividend   Split     Adj_Open     Adj_High      Adj_Low  \\\n",
       "count  1090.000000  1090.0  1090.000000  1090.000000  1090.000000   \n",
       "mean      0.013734     1.0   101.266148   101.888739   100.714383   \n",
       "std       0.109392     0.0    23.749267    23.855102    23.651463   \n",
       "min       0.000000     1.0    75.254904    76.476285    74.870383   \n",
       "25%       0.000000     1.0    80.998535    81.666781    80.424115   \n",
       "50%       0.000000     1.0    98.028850    98.620864    97.173717   \n",
       "75%       0.000000     1.0   112.030999   112.807727   111.648037   \n",
       "max       1.010000     1.0   163.514329   164.252522   162.692039   \n",
       "\n",
       "         Adj_Close    Adj_Volume  \n",
       "count  1090.000000  1.090000e+03  \n",
       "mean    101.318265  5.202166e+06  \n",
       "std      23.767304  2.603023e+06  \n",
       "min      75.588155  9.632330e+05  \n",
       "25%      81.130713  3.542037e+06  \n",
       "50%      98.313894  4.582361e+06  \n",
       "75%     112.080686  6.217050e+06  \n",
       "max     162.776137  2.525932e+07  "
      ]
     },
     "execution_count": 4,
     "metadata": {},
     "output_type": "execute_result"
    }
   ],
   "source": [
    "df.describe()"
   ]
  },
  {
   "cell_type": "code",
   "execution_count": 5,
   "metadata": {},
   "outputs": [],
   "source": [
    "x = df[['High', 'Low','Open','Volume']].values\n",
    "y = df['Close'].values"
   ]
  },
  {
   "cell_type": "code",
   "execution_count": 6,
   "metadata": {},
   "outputs": [],
   "source": [
    "x_train,x_test,y_train,y_test = train_test_split(x,y,test_size = 0.2,random_state = 0)"
   ]
  },
  {
   "cell_type": "code",
   "execution_count": 7,
   "metadata": {},
   "outputs": [],
   "source": [
    "regressor =  LinearRegression()"
   ]
  },
  {
   "cell_type": "code",
   "execution_count": 8,
   "metadata": {},
   "outputs": [
    {
     "data": {
      "text/plain": [
       "LinearRegression()"
      ]
     },
     "execution_count": 8,
     "metadata": {},
     "output_type": "execute_result"
    }
   ],
   "source": [
    "regressor.fit(x_train,y_train)"
   ]
  },
  {
   "cell_type": "code",
   "execution_count": 9,
   "metadata": {},
   "outputs": [
    {
     "name": "stdout",
     "output_type": "stream",
     "text": [
      "[ 7.80844672e-01  7.70665118e-01 -5.50934236e-01  2.24627761e-10]\n"
     ]
    }
   ],
   "source": [
    "print(regressor.coef_)"
   ]
  },
  {
   "cell_type": "code",
   "execution_count": 10,
   "metadata": {},
   "outputs": [
    {
     "name": "stdout",
     "output_type": "stream",
     "text": [
      "-0.08527545822920501\n"
     ]
    }
   ],
   "source": [
    "print(regressor.intercept_)"
   ]
  },
  {
   "cell_type": "code",
   "execution_count": 11,
   "metadata": {},
   "outputs": [],
   "source": [
    "predict = regressor.predict(x_test)"
   ]
  },
  {
   "cell_type": "code",
   "execution_count": 12,
   "metadata": {},
   "outputs": [
    {
     "name": "stdout",
     "output_type": "stream",
     "text": [
      "[112.27344219 125.10676288  92.95616698 111.91547183 119.06437121\n",
      " 159.4722399  166.61314719  98.47865202 124.1614646  113.66216701\n",
      "  98.47227364 101.30617716 119.72040188  94.54144917  97.42473016\n",
      "  97.58295378 157.19572997 113.24600511 119.08773682 156.58090465\n",
      " 111.93273418 127.69582762 100.39428588  97.9756954  118.04109127\n",
      " 119.81093508  96.84276916  96.67211873 114.16806786  94.569577\n",
      "  96.99946481 129.9985019   95.56837771  93.10252203  94.86398132\n",
      "  99.04736673 167.11648204 112.55901867  97.00110947  96.09458831\n",
      " 114.63853132 122.16615957  96.08018122  94.79174136 118.15385387\n",
      "  94.84731726  96.81235097  96.20563174 119.14840744  96.65628253\n",
      " 101.97576947 119.02348405 118.10622837 116.94088336 127.09973622\n",
      "  93.41067318  93.38172562  96.41767979 157.04354726 122.72881081\n",
      " 116.49120053  98.28029652 172.65685532 116.73369954  91.19270627\n",
      " 117.05879263  98.57074666  95.98027483 124.38719197  98.69785473\n",
      " 151.45275743 103.17078655 118.72818073  95.46388634  97.25964662\n",
      " 171.24766219 172.07091127  94.55868064  94.43202066 119.63748248\n",
      " 115.00042379 126.6032373   92.80168753  97.3636357   92.01772368\n",
      "  96.35422733  94.88074455  97.05183234 145.2485274  124.94551938\n",
      "  95.08927626 127.69929291  97.41069374  97.41632075 101.78698869\n",
      " 123.30509768 101.67546421 123.43247007  95.19212879  96.72464794\n",
      " 161.09601842 100.84656959  97.74926499 115.22908882 101.11389382\n",
      "  98.56400621 155.98207665 127.79372233  97.07392628  94.27600777\n",
      " 173.92443568 101.09765255  92.9137028   98.49834125  98.22318795\n",
      " 113.81626605 122.29733692 100.66822677 123.21432289 128.82236609\n",
      "  96.36475894  94.35855582  96.57394228  92.98378301 119.80591311\n",
      "  94.61719924 116.78494822 164.94112871 113.81188109 116.90497615\n",
      " 102.17654517 129.06635576  96.19493395 156.51379099  97.82980178\n",
      " 129.60117283  95.97817955 123.97607614 153.01136117 100.37588786\n",
      "  95.5704282   97.88804299 151.3572103   93.1639087  159.93119816\n",
      " 119.73736918  98.27246796  95.46244285 128.33997776  96.35487414\n",
      "  93.92603018  95.23314757 101.56436952  97.10845727  95.33900989\n",
      " 133.25083827 122.83091126  94.46024086 121.2021431  102.05893593\n",
      "  96.35438119 118.36674791 172.40488442  97.18527102  99.65977969\n",
      " 171.32486861 116.68110228  94.56120522 159.63320602  96.32186383\n",
      " 123.62899525 115.39633897  93.52540337 118.72237581  93.37514792\n",
      "  96.79265456  97.0324229   99.82187509 112.41931195  91.76335662\n",
      "  90.30141235  95.35241584  96.81622764  93.63571542  93.47755179\n",
      " 118.10416591  95.86604852 113.70022195  98.13528434  96.24369258\n",
      "  99.6454045   91.63328611 100.26489923 119.86695111 127.98436461\n",
      "  95.64402531  95.37024833 154.42021324 120.82386025  95.56112247\n",
      "  97.12433616  92.92085473  96.51020837 118.55888999  94.01043979\n",
      "  99.80708914  94.21417193  93.5492452   93.00137019  91.3861873\n",
      " 129.93519457 122.07866175 112.43036574 112.09926037 157.0084935\n",
      " 128.29886242  97.48861295 123.51716785]\n"
     ]
    }
   ],
   "source": [
    "print(predict)"
   ]
  },
  {
   "cell_type": "code",
   "execution_count": 13,
   "metadata": {},
   "outputs": [],
   "source": [
    "dframe = pd.DataFrame({\"Actual\" : y_test.flatten() , 'Predicted' : predict.flatten()})"
   ]
  },
  {
   "cell_type": "code",
   "execution_count": 14,
   "metadata": {},
   "outputs": [
    {
     "data": {
      "text/html": [
       "<div>\n",
       "<style scoped>\n",
       "    .dataframe tbody tr th:only-of-type {\n",
       "        vertical-align: middle;\n",
       "    }\n",
       "\n",
       "    .dataframe tbody tr th {\n",
       "        vertical-align: top;\n",
       "    }\n",
       "\n",
       "    .dataframe thead th {\n",
       "        text-align: right;\n",
       "    }\n",
       "</style>\n",
       "<table border=\"1\" class=\"dataframe\">\n",
       "  <thead>\n",
       "    <tr style=\"text-align: right;\">\n",
       "      <th></th>\n",
       "      <th>Actual</th>\n",
       "      <th>Predicted</th>\n",
       "    </tr>\n",
       "  </thead>\n",
       "  <tbody>\n",
       "    <tr>\n",
       "      <th>0</th>\n",
       "      <td>112.62</td>\n",
       "      <td>112.273442</td>\n",
       "    </tr>\n",
       "    <tr>\n",
       "      <th>1</th>\n",
       "      <td>124.67</td>\n",
       "      <td>125.106763</td>\n",
       "    </tr>\n",
       "    <tr>\n",
       "      <th>2</th>\n",
       "      <td>92.81</td>\n",
       "      <td>92.956167</td>\n",
       "    </tr>\n",
       "    <tr>\n",
       "      <th>3</th>\n",
       "      <td>112.11</td>\n",
       "      <td>111.915472</td>\n",
       "    </tr>\n",
       "    <tr>\n",
       "      <th>4</th>\n",
       "      <td>119.20</td>\n",
       "      <td>119.064371</td>\n",
       "    </tr>\n",
       "    <tr>\n",
       "      <th>5</th>\n",
       "      <td>159.67</td>\n",
       "      <td>159.472240</td>\n",
       "    </tr>\n",
       "    <tr>\n",
       "      <th>6</th>\n",
       "      <td>166.72</td>\n",
       "      <td>166.613147</td>\n",
       "    </tr>\n",
       "    <tr>\n",
       "      <th>7</th>\n",
       "      <td>98.74</td>\n",
       "      <td>98.478652</td>\n",
       "    </tr>\n",
       "    <tr>\n",
       "      <th>8</th>\n",
       "      <td>123.95</td>\n",
       "      <td>124.161465</td>\n",
       "    </tr>\n",
       "    <tr>\n",
       "      <th>9</th>\n",
       "      <td>113.45</td>\n",
       "      <td>113.662167</td>\n",
       "    </tr>\n",
       "    <tr>\n",
       "      <th>10</th>\n",
       "      <td>98.46</td>\n",
       "      <td>98.472274</td>\n",
       "    </tr>\n",
       "    <tr>\n",
       "      <th>11</th>\n",
       "      <td>101.77</td>\n",
       "      <td>101.306177</td>\n",
       "    </tr>\n",
       "    <tr>\n",
       "      <th>12</th>\n",
       "      <td>119.62</td>\n",
       "      <td>119.720402</td>\n",
       "    </tr>\n",
       "    <tr>\n",
       "      <th>13</th>\n",
       "      <td>94.10</td>\n",
       "      <td>94.541449</td>\n",
       "    </tr>\n",
       "    <tr>\n",
       "      <th>14</th>\n",
       "      <td>97.18</td>\n",
       "      <td>97.424730</td>\n",
       "    </tr>\n",
       "    <tr>\n",
       "      <th>15</th>\n",
       "      <td>97.51</td>\n",
       "      <td>97.582954</td>\n",
       "    </tr>\n",
       "    <tr>\n",
       "      <th>16</th>\n",
       "      <td>156.33</td>\n",
       "      <td>157.195730</td>\n",
       "    </tr>\n",
       "    <tr>\n",
       "      <th>17</th>\n",
       "      <td>112.18</td>\n",
       "      <td>113.246005</td>\n",
       "    </tr>\n",
       "    <tr>\n",
       "      <th>18</th>\n",
       "      <td>119.42</td>\n",
       "      <td>119.087737</td>\n",
       "    </tr>\n",
       "    <tr>\n",
       "      <th>19</th>\n",
       "      <td>156.51</td>\n",
       "      <td>156.580905</td>\n",
       "    </tr>\n",
       "    <tr>\n",
       "      <th>20</th>\n",
       "      <td>112.53</td>\n",
       "      <td>111.932734</td>\n",
       "    </tr>\n",
       "    <tr>\n",
       "      <th>21</th>\n",
       "      <td>127.61</td>\n",
       "      <td>127.695828</td>\n",
       "    </tr>\n",
       "    <tr>\n",
       "      <th>22</th>\n",
       "      <td>100.47</td>\n",
       "      <td>100.394286</td>\n",
       "    </tr>\n",
       "    <tr>\n",
       "      <th>23</th>\n",
       "      <td>98.27</td>\n",
       "      <td>97.975695</td>\n",
       "    </tr>\n",
       "    <tr>\n",
       "      <th>24</th>\n",
       "      <td>118.37</td>\n",
       "      <td>118.041091</td>\n",
       "    </tr>\n",
       "  </tbody>\n",
       "</table>\n",
       "</div>"
      ],
      "text/plain": [
       "    Actual   Predicted\n",
       "0   112.62  112.273442\n",
       "1   124.67  125.106763\n",
       "2    92.81   92.956167\n",
       "3   112.11  111.915472\n",
       "4   119.20  119.064371\n",
       "5   159.67  159.472240\n",
       "6   166.72  166.613147\n",
       "7    98.74   98.478652\n",
       "8   123.95  124.161465\n",
       "9   113.45  113.662167\n",
       "10   98.46   98.472274\n",
       "11  101.77  101.306177\n",
       "12  119.62  119.720402\n",
       "13   94.10   94.541449\n",
       "14   97.18   97.424730\n",
       "15   97.51   97.582954\n",
       "16  156.33  157.195730\n",
       "17  112.18  113.246005\n",
       "18  119.42  119.087737\n",
       "19  156.51  156.580905\n",
       "20  112.53  111.932734\n",
       "21  127.61  127.695828\n",
       "22  100.47  100.394286\n",
       "23   98.27   97.975695\n",
       "24  118.37  118.041091"
      ]
     },
     "execution_count": 14,
     "metadata": {},
     "output_type": "execute_result"
    }
   ],
   "source": [
    "dframe.head(25)"
   ]
  },
  {
   "cell_type": "code",
   "execution_count": 15,
   "metadata": {},
   "outputs": [
    {
     "name": "stdout",
     "output_type": "stream",
     "text": [
      "Mean Absolute Error :  0.2903453980753727\n",
      "Mean Squared Error :  0.14906688342239854\n",
      "Root Mean Squared Error :  0.3860918069868856\n"
     ]
    }
   ],
   "source": [
    "print(\"Mean Absolute Error : \", metrics.mean_absolute_error(y_test,predict))\n",
    "print(\"Mean Squared Error : \",metrics.mean_squared_error(y_test,predict))\n",
    "print(\"Root Mean Squared Error : \",np.sqrt(metrics.mean_squared_error(y_test,predict)))"
   ]
  },
  {
   "cell_type": "code",
   "execution_count": 16,
   "metadata": {},
   "outputs": [],
   "source": [
    "graph = dframe.head(20)"
   ]
  },
  {
   "cell_type": "code",
   "execution_count": 17,
   "metadata": {},
   "outputs": [
    {
     "data": {
      "image/png": "[encoded data removed]",
      "text/plain": [
       "<Figure size 1152x576 with 1 Axes>"
      ]
     },
     "metadata": {},
     "output_type": "display_data"
    }
   ],
   "source": [
    "#visualising the dataset\n",
    "plt.figure(figsize=(16,8))\n",
    "plt.title(\"Mc Donalds\")\n",
    "plt.xlabel('Days')\n",
    "plt.ylabel('Close price in USD ($)')\n",
    "plt.plot( graph)\n",
    "plt.legend(['Actual','Prediction'])\n",
    "plt.show()"
   ]
  },
  {
   "cell_type": "code",
   "execution_count": 18,
   "metadata": {},
   "outputs": [
    {
     "ename": "AttributeError",
     "evalue": "module 'seaborn' has no attribute 'help'",
     "output_type": "error",
     "traceback": [
      "\u001b[1;31m---------------------------------------------------------------------------\u001b[0m",
      "\u001b[1;31mAttributeError\u001b[0m                            Traceback (most recent call last)",
      "\u001b[1;32m<ipython-input-18-14c80fe09d00>\u001b[0m in \u001b[0;36m<module>\u001b[1;34m\u001b[0m\n\u001b[1;32m----> 1\u001b[1;33m \u001b[0msns\u001b[0m\u001b[1;33m.\u001b[0m\u001b[0mhelp\u001b[0m\u001b[1;33m(\u001b[0m\u001b[1;33m)\u001b[0m\u001b[1;33m\u001b[0m\u001b[1;33m\u001b[0m\u001b[0m\n\u001b[0m",
      "\u001b[1;31mAttributeError\u001b[0m: module 'seaborn' has no attribute 'help'"
     ]
    }
   ],
   "source": [
    "sns.help()"
   ]
  },
  {
   "cell_type": "code",
   "execution_count": null,
   "metadata": {},
   "outputs": [],
   "source": []
  }
 ],
 "metadata": {
  "kernelspec": {
   "display_name": "Python 3",
   "language": "python",
   "name": "python3"
  },
  "language_info": {
   "codemirror_mode": {
    "name": "ipython",
    "version": 3
   },
   "file_extension": ".py",
   "mimetype": "text/x-python",
   "name": "python",
   "nbconvert_exporter": "python",
   "pygments_lexer": "ipython3",
   "version": "3.7.8"
  }
 },
 "nbformat": 4,
 "nbformat_minor": 4
}
