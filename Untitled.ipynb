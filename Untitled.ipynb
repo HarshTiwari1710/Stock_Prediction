{
 "cells": [
  {
   "cell_type": "code",
   "execution_count": 1,
   "metadata": {},
   "outputs": [],
   "source": [
    "import numpy as np\n",
    "import pandas as pd\n",
    "import matplotlib.pyplot as plt\n",
    "from sklearn.linear_model import LinearRegression\n",
    "import quandl as q\n",
    "from sklearn.svm import SVR\n",
    "from sklearn.model_selection import train_test_split"
   ]
  },
  {
   "cell_type": "code",
   "execution_count": 2,
   "metadata": {},
   "outputs": [],
   "source": [
    " df = pd.read_csv(r\"C:\\Users\\harshtiwari1711\\Downloads\\EOD-MCD.csv\")"
   ]
  },
  {
   "cell_type": "code",
   "execution_count": 3,
   "metadata": {},
   "outputs": [
    {
     "name": "stdout",
     "output_type": "stream",
     "text": [
      "         Date     Open    High      Low   Close     Volume  Dividend  Split  \\\n",
      "0  2017-12-28  173.260  173.55  172.620  173.10  1800068.0       0.0    1.0   \n",
      "1  2017-12-27  171.330  172.74  170.845  172.67  1596817.0       0.0    1.0   \n",
      "2  2017-12-26  171.090  171.64  170.820  171.29  1280227.0       0.0    1.0   \n",
      "3  2017-12-22  171.375  172.04  170.550  171.42  3234143.0       0.0    1.0   \n",
      "4  2017-12-21  172.680  172.75  171.670  171.85  2341676.0       0.0    1.0   \n",
      "\n",
      "     Adj_Open    Adj_High     Adj_Low   Adj_Close  Adj_Volume  \n",
      "0  161.897781  162.168763  161.299752  161.748274   1800068.0  \n",
      "1  160.094349  161.411882  159.641154  161.346473   1596817.0  \n",
      "2  159.870088  160.384019  159.617794  160.056972   1280227.0  \n",
      "3  160.136398  160.757788  159.365500  160.178447   3234143.0  \n",
      "4  161.355817  161.421226  160.412052  160.580248   2341676.0  \n"
     ]
    }
   ],
   "source": [
    "print(df.head())"
   ]
  },
  {
   "cell_type": "code",
   "execution_count": 4,
   "metadata": {},
   "outputs": [],
   "source": [
    "df = df[['Adj_Close']] "
   ]
  },
  {
   "cell_type": "code",
   "execution_count": 5,
   "metadata": {},
   "outputs": [
    {
     "name": "stdout",
     "output_type": "stream",
     "text": [
      "    Adj_Close\n",
      "0  161.748274\n",
      "1  161.346473\n",
      "2  160.056972\n",
      "3  160.178447\n",
      "4  160.580248\n"
     ]
    }
   ],
   "source": [
    "print(df.head())"
   ]
  },
  {
   "cell_type": "code",
   "execution_count": 6,
   "metadata": {},
   "outputs": [
    {
     "name": "stdout",
     "output_type": "stream",
     "text": [
      "      Adj_Close  Prediction\n",
      "1085  79.016478         NaN\n",
      "1086  78.860821         NaN\n",
      "1087  78.369272         NaN\n",
      "1088  77.959648         NaN\n",
      "1089  77.435330         NaN\n"
     ]
    }
   ],
   "source": [
    "forecast_out = 30 \n",
    "df['Prediction'] = df[['Adj_Close']].shift(-forecast_out)\n",
    "print(df.tail())"
   ]
  },
  {
   "cell_type": "code",
   "execution_count": 7,
   "metadata": {},
   "outputs": [],
   "source": [
    "X = np.array(df.drop(['Prediction'],1))"
   ]
  },
  {
   "cell_type": "code",
   "execution_count": 8,
   "metadata": {},
   "outputs": [
    {
     "name": "stdout",
     "output_type": "stream",
     "text": [
      "[[161.7482738 ]\n",
      " [161.34647277]\n",
      " [160.0569718 ]\n",
      " ...\n",
      " [ 78.21361533]\n",
      " [ 78.00880331]\n",
      " [ 76.84547102]]\n"
     ]
    }
   ],
   "source": [
    "X = X[:-forecast_out]\n",
    "print(X)"
   ]
  },
  {
   "cell_type": "code",
   "execution_count": 9,
   "metadata": {},
   "outputs": [],
   "source": [
    "y = np.array(df['Prediction'])"
   ]
  },
  {
   "cell_type": "code",
   "execution_count": 10,
   "metadata": {},
   "outputs": [
    {
     "name": "stdout",
     "output_type": "stream",
     "text": [
      "[156.16831818 155.48088402 153.8273262  ...  78.36927247  77.95964842\n",
      "  77.43532964]\n"
     ]
    }
   ],
   "source": [
    "y = y[:-forecast_out]\n",
    "print(y)"
   ]
  },
  {
   "cell_type": "code",
   "execution_count": 11,
   "metadata": {},
   "outputs": [],
   "source": [
    "x_train, x_test, y_train, y_test = train_test_split(X, y, test_size=0.2)"
   ]
  },
  {
   "cell_type": "code",
   "execution_count": 12,
   "metadata": {},
   "outputs": [
    {
     "data": {
      "text/plain": [
       "SVR(C=1000.0, gamma=0.1)"
      ]
     },
     "execution_count": 12,
     "metadata": {},
     "output_type": "execute_result"
    }
   ],
   "source": [
    "svr_rbf = SVR(kernel='rbf', C=1e3, gamma=0.1) \n",
    "svr_rbf.fit(x_train, y_train)"
   ]
  },
  {
   "cell_type": "code",
   "execution_count": 13,
   "metadata": {},
   "outputs": [
    {
     "data": {
      "text/plain": [
       "LinearRegression()"
      ]
     },
     "execution_count": 13,
     "metadata": {},
     "output_type": "execute_result"
    }
   ],
   "source": [
    "lr = LinearRegression()\n",
    "# Train the model\n",
    "lr.fit(x_train, y_train)"
   ]
  },
  {
   "cell_type": "code",
   "execution_count": 14,
   "metadata": {},
   "outputs": [
    {
     "name": "stdout",
     "output_type": "stream",
     "text": [
      "lr confidence:  0.9635450575783947\n"
     ]
    }
   ],
   "source": [
    "lr_confidence = lr.score(x_test, y_test)\n",
    "print(\"lr confidence: \", lr_confidence)"
   ]
  },
  {
   "cell_type": "code",
   "execution_count": 15,
   "metadata": {},
   "outputs": [
    {
     "name": "stdout",
     "output_type": "stream",
     "text": [
      "[[77.59917926]\n",
      " [77.61556422]\n",
      " [77.36978979]\n",
      " [76.41126953]\n",
      " [76.96016575]\n",
      " [77.30424995]\n",
      " [77.5827943 ]\n",
      " [77.55821686]\n",
      " [78.05795819]\n",
      " [78.75431907]\n",
      " [78.81985892]\n",
      " [79.56537468]\n",
      " [80.44197014]\n",
      " [79.97499873]\n",
      " [80.10607842]\n",
      " [79.69645438]\n",
      " [79.3851401 ]\n",
      " [80.22077315]\n",
      " [80.85978667]\n",
      " [80.22077315]\n",
      " [80.04873106]\n",
      " [79.75380174]\n",
      " [79.61452957]\n",
      " [79.84391903]\n",
      " [79.37694762]\n",
      " [79.01647846]\n",
      " [78.86082132]\n",
      " [78.36927247]\n",
      " [77.95964842]\n",
      " [77.43532964]]\n"
     ]
    }
   ],
   "source": [
    "x_forecast = np.array(df.drop(['Prediction'],1))[-forecast_out:]\n",
    "print(x_forecast)"
   ]
  },
  {
   "cell_type": "code",
   "execution_count": 16,
   "metadata": {
    "scrolled": true
   },
   "outputs": [
    {
     "name": "stdout",
     "output_type": "stream",
     "text": [
      "[77.66540605 77.68024584 77.4576491  76.58952183 77.08665454 77.39828997\n",
      " 77.65056627 77.6283066  78.08091996 78.71161071 78.77096984 79.44617994\n",
      " 80.2401083  79.8171745  79.93589276 79.5648982  79.28294233 80.03977124\n",
      " 80.61852275 80.03977124 79.88395352 79.61683744 79.49069929 79.69845624\n",
      " 79.27552244 78.94904723 78.8080693  78.36287583 77.99188127 77.51700823]\n",
      "[79.11920712 79.13379814 78.90684652 78.3153043  78.53918743 78.8449127\n",
      " 79.1045136  79.0822929  79.47401271 79.73762769 79.74485501 79.63395325\n",
      " 79.17064843 79.44123441 79.36665092 79.58068859 79.69181225 79.29912011\n",
      " 78.99201784 79.29912011 79.39976138 79.55467315 79.61503079 79.51077402\n",
      " 79.69399571 79.74945015 79.74791034 79.63498025 79.4088476  78.96860071]\n"
     ]
    }
   ],
   "source": [
    "lr_prediction = lr.predict(x_forecast)\n",
    "print(lr_prediction)\n",
    "# Print support vector regressor model predictions for the next '30' days\n",
    "svm_prediction = svr_rbf.predict(x_forecast)\n",
    "print(svm_prediction)"
   ]
  },
  {
   "cell_type": "code",
   "execution_count": null,
   "metadata": {},
   "outputs": [],
   "source": []
  }
 ],
 "metadata": {
  "kernelspec": {
   "display_name": "Python 3",
   "language": "python",
   "name": "python3"
  },
  "language_info": {
   "codemirror_mode": {
    "name": "ipython",
    "version": 3
   },
   "file_extension": ".py",
   "mimetype": "text/x-python",
   "name": "python",
   "nbconvert_exporter": "python",
   "pygments_lexer": "ipython3",
   "version": "3.7.8"
  }
 },
 "nbformat": 4,
 "nbformat_minor": 4
}
