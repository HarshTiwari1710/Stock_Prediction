{
 "cells": [
  {
   "cell_type": "code",
   "execution_count": 1,
   "metadata": {},
   "outputs": [],
   "source": [
    "import numpy as np\n",
    "import matplotlib.pyplot as plt\n",
    "import pandas as pd \n",
    "from sklearn.linear_model import LinearRegression\n",
    "from sklearn.model_selection import train_test_split\n",
    "from sklearn import metrics"
   ]
  },
  {
   "cell_type": "code",
   "execution_count": 2,
   "metadata": {},
   "outputs": [],
   "source": [
    "plt.style.use(\"seaborn\")\n",
    "#loading the data \n",
    "df = pd.read_csv(r\"EOD-NKE.csv\")"
   ]
  },
  {
   "cell_type": "code",
   "execution_count": 3,
   "metadata": {},
   "outputs": [
    {
     "name": "stdout",
     "output_type": "stream",
     "text": [
      "         Date   Open   High    Low  Close      Volume  Dividend  Split  \\\n",
      "0  2017-12-28  63.00  63.32  62.85  62.95   3987151.0       0.0    1.0   \n",
      "1  2017-12-27  63.56  63.60  62.77  62.95   8959745.0       0.0    1.0   \n",
      "2  2017-12-26  62.90  63.89  62.81  63.65   4563475.0       0.0    1.0   \n",
      "3  2017-12-22  61.21  63.54  60.13  63.29  20413895.0       0.0    1.0   \n",
      "4  2017-12-21  64.33  64.98  63.30  64.77  14312589.0       0.0    1.0   \n",
      "\n",
      "    Adj_Open   Adj_High    Adj_Low  Adj_Close  Adj_Volume  \n",
      "0  61.192172  61.502990  61.046477  61.143607   3987151.0  \n",
      "1  61.736103  61.774955  60.968772  61.143607   8959745.0  \n",
      "2  61.095042  62.056633  61.007625  61.823520   4563475.0  \n",
      "3  59.453538  61.716677  58.404529  61.473851  20413895.0  \n",
      "4  62.484007  63.115355  61.483564  62.911381  14312589.0  \n"
     ]
    }
   ],
   "source": [
    "print(df.head())"
   ]
  },
  {
   "cell_type": "code",
   "execution_count": 4,
   "metadata": {},
   "outputs": [
    {
     "data": {
      "text/html": [
       "<div>\n",
       "<style scoped>\n",
       "    .dataframe tbody tr th:only-of-type {\n",
       "        vertical-align: middle;\n",
       "    }\n",
       "\n",
       "    .dataframe tbody tr th {\n",
       "        vertical-align: top;\n",
       "    }\n",
       "\n",
       "    .dataframe thead th {\n",
       "        text-align: right;\n",
       "    }\n",
       "</style>\n",
       "<table border=\"1\" class=\"dataframe\">\n",
       "  <thead>\n",
       "    <tr style=\"text-align: right;\">\n",
       "      <th></th>\n",
       "      <th>Open</th>\n",
       "      <th>High</th>\n",
       "      <th>Low</th>\n",
       "      <th>Close</th>\n",
       "      <th>Volume</th>\n",
       "      <th>Dividend</th>\n",
       "      <th>Split</th>\n",
       "      <th>Adj_Open</th>\n",
       "      <th>Adj_High</th>\n",
       "      <th>Adj_Low</th>\n",
       "      <th>Adj_Close</th>\n",
       "      <th>Adj_Volume</th>\n",
       "    </tr>\n",
       "  </thead>\n",
       "  <tbody>\n",
       "    <tr>\n",
       "      <th>count</th>\n",
       "      <td>1090.000000</td>\n",
       "      <td>1090.000000</td>\n",
       "      <td>1090.000000</td>\n",
       "      <td>1090.000000</td>\n",
       "      <td>1.090000e+03</td>\n",
       "      <td>1090.000000</td>\n",
       "      <td>1090.000000</td>\n",
       "      <td>1090.000000</td>\n",
       "      <td>1090.000000</td>\n",
       "      <td>1090.000000</td>\n",
       "      <td>1090.000000</td>\n",
       "      <td>1.090000e+03</td>\n",
       "    </tr>\n",
       "    <tr>\n",
       "      <th>mean</th>\n",
       "      <td>75.404096</td>\n",
       "      <td>76.000458</td>\n",
       "      <td>74.788281</td>\n",
       "      <td>75.416490</td>\n",
       "      <td>6.535514e+06</td>\n",
       "      <td>0.003486</td>\n",
       "      <td>1.000917</td>\n",
       "      <td>48.053975</td>\n",
       "      <td>48.445290</td>\n",
       "      <td>47.660151</td>\n",
       "      <td>48.066513</td>\n",
       "      <td>8.548742e+06</td>\n",
       "    </tr>\n",
       "    <tr>\n",
       "      <th>std</th>\n",
       "      <td>22.666006</td>\n",
       "      <td>22.805417</td>\n",
       "      <td>22.437989</td>\n",
       "      <td>22.636137</td>\n",
       "      <td>4.638944e+06</td>\n",
       "      <td>0.028420</td>\n",
       "      <td>0.030289</td>\n",
       "      <td>8.655830</td>\n",
       "      <td>8.747738</td>\n",
       "      <td>8.551783</td>\n",
       "      <td>8.658056</td>\n",
       "      <td>4.687449e+06</td>\n",
       "    </tr>\n",
       "    <tr>\n",
       "      <th>min</th>\n",
       "      <td>49.240000</td>\n",
       "      <td>50.000000</td>\n",
       "      <td>49.010000</td>\n",
       "      <td>49.620000</td>\n",
       "      <td>1.220605e+06</td>\n",
       "      <td>0.000000</td>\n",
       "      <td>1.000000</td>\n",
       "      <td>29.358296</td>\n",
       "      <td>29.953677</td>\n",
       "      <td>29.307527</td>\n",
       "      <td>29.672140</td>\n",
       "      <td>2.441210e+06</td>\n",
       "    </tr>\n",
       "    <tr>\n",
       "      <th>25%</th>\n",
       "      <td>56.005000</td>\n",
       "      <td>56.500000</td>\n",
       "      <td>55.633750</td>\n",
       "      <td>56.052500</td>\n",
       "      <td>3.178350e+06</td>\n",
       "      <td>0.000000</td>\n",
       "      <td>1.000000</td>\n",
       "      <td>40.579548</td>\n",
       "      <td>40.882119</td>\n",
       "      <td>40.010621</td>\n",
       "      <td>40.689361</td>\n",
       "      <td>5.936417e+06</td>\n",
       "    </tr>\n",
       "    <tr>\n",
       "      <th>50%</th>\n",
       "      <td>72.305000</td>\n",
       "      <td>72.965000</td>\n",
       "      <td>71.740000</td>\n",
       "      <td>72.400000</td>\n",
       "      <td>5.304524e+06</td>\n",
       "      <td>0.000000</td>\n",
       "      <td>1.000000</td>\n",
       "      <td>50.344530</td>\n",
       "      <td>50.677305</td>\n",
       "      <td>49.873544</td>\n",
       "      <td>50.316412</td>\n",
       "      <td>7.501468e+06</td>\n",
       "    </tr>\n",
       "    <tr>\n",
       "      <th>75%</th>\n",
       "      <td>93.395000</td>\n",
       "      <td>94.102500</td>\n",
       "      <td>92.604575</td>\n",
       "      <td>93.332500</td>\n",
       "      <td>8.495554e+06</td>\n",
       "      <td>0.000000</td>\n",
       "      <td>1.000000</td>\n",
       "      <td>54.270148</td>\n",
       "      <td>54.696704</td>\n",
       "      <td>53.865728</td>\n",
       "      <td>54.324873</td>\n",
       "      <td>9.392706e+06</td>\n",
       "    </tr>\n",
       "    <tr>\n",
       "      <th>max</th>\n",
       "      <td>136.240000</td>\n",
       "      <td>136.390000</td>\n",
       "      <td>133.331000</td>\n",
       "      <td>134.330000</td>\n",
       "      <td>4.653723e+07</td>\n",
       "      <td>0.320000</td>\n",
       "      <td>2.000000</td>\n",
       "      <td>64.525911</td>\n",
       "      <td>64.596954</td>\n",
       "      <td>62.994973</td>\n",
       "      <td>63.466971</td>\n",
       "      <td>5.729632e+07</td>\n",
       "    </tr>\n",
       "  </tbody>\n",
       "</table>\n",
       "</div>"
      ],
      "text/plain": [
       "              Open         High          Low        Close        Volume  \\\n",
       "count  1090.000000  1090.000000  1090.000000  1090.000000  1.090000e+03   \n",
       "mean     75.404096    76.000458    74.788281    75.416490  6.535514e+06   \n",
       "std      22.666006    22.805417    22.437989    22.636137  4.638944e+06   \n",
       "min      49.240000    50.000000    49.010000    49.620000  1.220605e+06   \n",
       "25%      56.005000    56.500000    55.633750    56.052500  3.178350e+06   \n",
       "50%      72.305000    72.965000    71.740000    72.400000  5.304524e+06   \n",
       "75%      93.395000    94.102500    92.604575    93.332500  8.495554e+06   \n",
       "max     136.240000   136.390000   133.331000   134.330000  4.653723e+07   \n",
       "\n",
       "          Dividend        Split     Adj_Open     Adj_High      Adj_Low  \\\n",
       "count  1090.000000  1090.000000  1090.000000  1090.000000  1090.000000   \n",
       "mean      0.003486     1.000917    48.053975    48.445290    47.660151   \n",
       "std       0.028420     0.030289     8.655830     8.747738     8.551783   \n",
       "min       0.000000     1.000000    29.358296    29.953677    29.307527   \n",
       "25%       0.000000     1.000000    40.579548    40.882119    40.010621   \n",
       "50%       0.000000     1.000000    50.344530    50.677305    49.873544   \n",
       "75%       0.000000     1.000000    54.270148    54.696704    53.865728   \n",
       "max       0.320000     2.000000    64.525911    64.596954    62.994973   \n",
       "\n",
       "         Adj_Close    Adj_Volume  \n",
       "count  1090.000000  1.090000e+03  \n",
       "mean     48.066513  8.548742e+06  \n",
       "std       8.658056  4.687449e+06  \n",
       "min      29.672140  2.441210e+06  \n",
       "25%      40.689361  5.936417e+06  \n",
       "50%      50.316412  7.501468e+06  \n",
       "75%      54.324873  9.392706e+06  \n",
       "max      63.466971  5.729632e+07  "
      ]
     },
     "execution_count": 4,
     "metadata": {},
     "output_type": "execute_result"
    }
   ],
   "source": [
    "df.describe()"
   ]
  },
  {
   "cell_type": "code",
   "execution_count": 5,
   "metadata": {},
   "outputs": [],
   "source": [
    "x = df[['High', 'Low','Open','Volume']].values\n",
    "y = df['Close'].values"
   ]
  },
  {
   "cell_type": "code",
   "execution_count": 6,
   "metadata": {},
   "outputs": [],
   "source": [
    "x_train,x_test,y_train,y_test = train_test_split(x,y,test_size = 0.2,random_state = 0)"
   ]
  },
  {
   "cell_type": "code",
   "execution_count": 7,
   "metadata": {},
   "outputs": [],
   "source": [
    "regressor =  LinearRegression()"
   ]
  },
  {
   "cell_type": "code",
   "execution_count": 8,
   "metadata": {},
   "outputs": [
    {
     "data": {
      "text/plain": [
       "LinearRegression()"
      ]
     },
     "execution_count": 8,
     "metadata": {},
     "output_type": "execute_result"
    }
   ],
   "source": [
    "regressor.fit(x_train,y_train)"
   ]
  },
  {
   "cell_type": "code",
   "execution_count": 9,
   "metadata": {},
   "outputs": [
    {
     "name": "stdout",
     "output_type": "stream",
     "text": [
      "[ 8.45213363e-01  7.69786426e-01 -6.13616038e-01  6.95769697e-09]\n"
     ]
    }
   ],
   "source": [
    "print(regressor.coef_)"
   ]
  },
  {
   "cell_type": "code",
   "execution_count": 10,
   "metadata": {},
   "outputs": [
    {
     "name": "stdout",
     "output_type": "stream",
     "text": [
      "-0.1716635108408724\n"
     ]
    }
   ],
   "source": [
    "print(regressor.intercept_)"
   ]
  },
  {
   "cell_type": "code",
   "execution_count": 11,
   "metadata": {},
   "outputs": [],
   "source": [
    "predict = regressor.predict(x_test)"
   ]
  },
  {
   "cell_type": "code",
   "execution_count": 12,
   "metadata": {},
   "outputs": [
    {
     "name": "stdout",
     "output_type": "stream",
     "text": [
      "[130.81566287  53.68935403  88.62992204  52.01221414  60.89080904\n",
      "  53.96383967  59.26291185 100.94305346  56.49540936  51.84351613\n",
      " 103.73087626 122.34578246  52.24449031  75.737757    68.58241075\n",
      " 102.83077037  53.63584362 131.95746944  55.27824987  58.4796479\n",
      " 125.31012494  56.48425061  77.83107347  78.49446293  62.04990444\n",
      "  52.66461329 100.009183    95.24880714  52.38025385  73.8011459\n",
      "  99.38830526  54.91117214  78.26945477  87.84389293 110.03143174\n",
      " 112.09176988  55.99488452 126.65797596 111.69645687 110.85381739\n",
      "  52.79056712  53.06534718  96.74066313  77.63534185  55.46638775\n",
      "  89.81046372  66.33419746  96.51770596  55.78714523  97.34484931\n",
      "  74.193315    50.60504759 130.6083529   58.51140055  56.7485634\n",
      "  71.22330222  81.33035236  96.94095422  53.64927583  54.93587609\n",
      "  54.39601729  96.90939205  60.66630297  59.37613627  85.74773603\n",
      "  56.01421259  77.39409961  74.099634    63.13644186  78.75816234\n",
      "  53.19411419 126.16560122  62.86895688 110.27784127  99.99673847\n",
      "  59.502414    62.96430416  71.74378852 104.7060685   50.80010715\n",
      "  53.6844563   59.64374549  91.026075    79.29779029  91.20277014\n",
      " 101.38693072  74.2144462   99.43249791  54.04868211  56.92626391\n",
      "  74.3242215   57.2349936   76.70782331  78.91472138  74.95601488\n",
      "  51.67535923  73.11734845  55.4127165   77.03906362 100.59371869\n",
      "  51.57914588  77.99480794 102.27330269  58.2713818   75.7532433\n",
      "  76.74639734  59.61437184  59.99976891  97.27300738  72.02710651\n",
      "  60.20197687 115.18573887  87.73216328  79.34919112 122.40210724\n",
      " 132.43099606  53.53568028  73.06826779  51.0419525   58.16588953\n",
      " 112.8730655  103.43714356 102.55234477  80.00560388  51.94782528\n",
      "  87.89268552  57.3320731   53.37436132  51.43635364  60.11635246\n",
      "  76.40697187  60.07513387  78.23425743  59.16096249 115.30297483\n",
      "  56.04336347  78.90392543  61.99730941  57.3025041   72.24934216\n",
      "  72.90742165 114.01627202  53.70350378  93.0648086   52.32220358\n",
      "  51.43296154  72.93976323  73.71890574  56.20154116 109.73487741\n",
      "  94.81341906  74.91586775  76.73575651  73.75646005  75.52384928\n",
      "  56.46974324  61.04521914  93.31925904  54.6004332   76.7092178\n",
      "  77.04554043  57.32015665  63.85749166 119.85249684 115.40991194\n",
      "  63.61460616  55.09916232  75.42140059  52.77600609  98.9485049\n",
      "  58.24170869  58.77419232  76.61939643  62.43322875  70.85430834\n",
      " 101.04689718  67.51944967  97.27282671 130.02662806 101.88018731\n",
      "  96.02506585  98.01659029  78.9913654   81.47874833  73.8401412\n",
      "  50.9856764   79.96267192 130.20704311 112.00834842 112.36281407\n",
      "  73.5619855   93.83599588  77.09703118  56.10787497  60.3565537\n",
      "  74.56978273  72.52842318  53.70787023  51.67806574  78.96545126\n",
      "  76.05603488  92.69335465  99.97574717  55.95324005  77.22167886\n",
      " 104.5601558   75.96359781 106.70997862  95.88276591  81.88359238\n",
      "  55.69899841  55.51159592 130.65627577  51.79563931  51.5372124\n",
      "  57.70293067 106.95551304  57.88875586]\n"
     ]
    }
   ],
   "source": [
    "print(predict)"
   ]
  },
  {
   "cell_type": "code",
   "execution_count": 13,
   "metadata": {},
   "outputs": [],
   "source": [
    "dframe = pd.DataFrame({\"Actual\" : y_test.flatten() , 'Predicted' : predict.flatten()})"
   ]
  },
  {
   "cell_type": "code",
   "execution_count": 14,
   "metadata": {},
   "outputs": [
    {
     "data": {
      "text/html": [
       "<div>\n",
       "<style scoped>\n",
       "    .dataframe tbody tr th:only-of-type {\n",
       "        vertical-align: middle;\n",
       "    }\n",
       "\n",
       "    .dataframe tbody tr th {\n",
       "        vertical-align: top;\n",
       "    }\n",
       "\n",
       "    .dataframe thead th {\n",
       "        text-align: right;\n",
       "    }\n",
       "</style>\n",
       "<table border=\"1\" class=\"dataframe\">\n",
       "  <thead>\n",
       "    <tr style=\"text-align: right;\">\n",
       "      <th></th>\n",
       "      <th>Actual</th>\n",
       "      <th>Predicted</th>\n",
       "    </tr>\n",
       "  </thead>\n",
       "  <tbody>\n",
       "    <tr>\n",
       "      <th>0</th>\n",
       "      <td>131.12</td>\n",
       "      <td>130.815663</td>\n",
       "    </tr>\n",
       "    <tr>\n",
       "      <th>1</th>\n",
       "      <td>53.88</td>\n",
       "      <td>53.689354</td>\n",
       "    </tr>\n",
       "    <tr>\n",
       "      <th>2</th>\n",
       "      <td>88.07</td>\n",
       "      <td>88.629922</td>\n",
       "    </tr>\n",
       "    <tr>\n",
       "      <th>3</th>\n",
       "      <td>51.97</td>\n",
       "      <td>52.012214</td>\n",
       "    </tr>\n",
       "    <tr>\n",
       "      <th>4</th>\n",
       "      <td>60.70</td>\n",
       "      <td>60.890809</td>\n",
       "    </tr>\n",
       "    <tr>\n",
       "      <th>5</th>\n",
       "      <td>53.73</td>\n",
       "      <td>53.963840</td>\n",
       "    </tr>\n",
       "    <tr>\n",
       "      <th>6</th>\n",
       "      <td>59.19</td>\n",
       "      <td>59.262912</td>\n",
       "    </tr>\n",
       "    <tr>\n",
       "      <th>7</th>\n",
       "      <td>100.95</td>\n",
       "      <td>100.943053</td>\n",
       "    </tr>\n",
       "    <tr>\n",
       "      <th>8</th>\n",
       "      <td>56.59</td>\n",
       "      <td>56.495409</td>\n",
       "    </tr>\n",
       "    <tr>\n",
       "      <th>9</th>\n",
       "      <td>51.79</td>\n",
       "      <td>51.843516</td>\n",
       "    </tr>\n",
       "    <tr>\n",
       "      <th>10</th>\n",
       "      <td>103.42</td>\n",
       "      <td>103.730876</td>\n",
       "    </tr>\n",
       "    <tr>\n",
       "      <th>11</th>\n",
       "      <td>122.10</td>\n",
       "      <td>122.345782</td>\n",
       "    </tr>\n",
       "    <tr>\n",
       "      <th>12</th>\n",
       "      <td>51.98</td>\n",
       "      <td>52.244490</td>\n",
       "    </tr>\n",
       "    <tr>\n",
       "      <th>13</th>\n",
       "      <td>76.23</td>\n",
       "      <td>75.737757</td>\n",
       "    </tr>\n",
       "    <tr>\n",
       "      <th>14</th>\n",
       "      <td>68.08</td>\n",
       "      <td>68.582411</td>\n",
       "    </tr>\n",
       "    <tr>\n",
       "      <th>15</th>\n",
       "      <td>102.79</td>\n",
       "      <td>102.830770</td>\n",
       "    </tr>\n",
       "    <tr>\n",
       "      <th>16</th>\n",
       "      <td>53.40</td>\n",
       "      <td>53.635844</td>\n",
       "    </tr>\n",
       "    <tr>\n",
       "      <th>17</th>\n",
       "      <td>131.38</td>\n",
       "      <td>131.957469</td>\n",
       "    </tr>\n",
       "    <tr>\n",
       "      <th>18</th>\n",
       "      <td>55.45</td>\n",
       "      <td>55.278250</td>\n",
       "    </tr>\n",
       "    <tr>\n",
       "      <th>19</th>\n",
       "      <td>58.36</td>\n",
       "      <td>58.479648</td>\n",
       "    </tr>\n",
       "    <tr>\n",
       "      <th>20</th>\n",
       "      <td>125.78</td>\n",
       "      <td>125.310125</td>\n",
       "    </tr>\n",
       "    <tr>\n",
       "      <th>21</th>\n",
       "      <td>56.67</td>\n",
       "      <td>56.484251</td>\n",
       "    </tr>\n",
       "    <tr>\n",
       "      <th>22</th>\n",
       "      <td>77.95</td>\n",
       "      <td>77.831073</td>\n",
       "    </tr>\n",
       "    <tr>\n",
       "      <th>23</th>\n",
       "      <td>78.87</td>\n",
       "      <td>78.494463</td>\n",
       "    </tr>\n",
       "    <tr>\n",
       "      <th>24</th>\n",
       "      <td>62.38</td>\n",
       "      <td>62.049904</td>\n",
       "    </tr>\n",
       "  </tbody>\n",
       "</table>\n",
       "</div>"
      ],
      "text/plain": [
       "    Actual   Predicted\n",
       "0   131.12  130.815663\n",
       "1    53.88   53.689354\n",
       "2    88.07   88.629922\n",
       "3    51.97   52.012214\n",
       "4    60.70   60.890809\n",
       "5    53.73   53.963840\n",
       "6    59.19   59.262912\n",
       "7   100.95  100.943053\n",
       "8    56.59   56.495409\n",
       "9    51.79   51.843516\n",
       "10  103.42  103.730876\n",
       "11  122.10  122.345782\n",
       "12   51.98   52.244490\n",
       "13   76.23   75.737757\n",
       "14   68.08   68.582411\n",
       "15  102.79  102.830770\n",
       "16   53.40   53.635844\n",
       "17  131.38  131.957469\n",
       "18   55.45   55.278250\n",
       "19   58.36   58.479648\n",
       "20  125.78  125.310125\n",
       "21   56.67   56.484251\n",
       "22   77.95   77.831073\n",
       "23   78.87   78.494463\n",
       "24   62.38   62.049904"
      ]
     },
     "execution_count": 14,
     "metadata": {},
     "output_type": "execute_result"
    }
   ],
   "source": [
    "dframe.head(25)"
   ]
  },
  {
   "cell_type": "code",
   "execution_count": 15,
   "metadata": {},
   "outputs": [
    {
     "name": "stdout",
     "output_type": "stream",
     "text": [
      "Mean Absolute Error :  0.26266148800829764\n",
      "Mean Squared Error :  0.13721619914673752\n",
      "Root Mean Squared Error :  0.37042704969634377\n"
     ]
    }
   ],
   "source": [
    "print(\"Mean Absolute Error : \", metrics.mean_absolute_error(y_test,predict))\n",
    "print(\"Mean Squared Error : \",metrics.mean_squared_error(y_test,predict))\n",
    "print(\"Root Mean Squared Error : \",np.sqrt(metrics.mean_squared_error(y_test,predict)))"
   ]
  },
  {
   "cell_type": "code",
   "execution_count": 16,
   "metadata": {},
   "outputs": [],
   "source": [
    "graph = dframe.head(20)"
   ]
  },
  {
   "cell_type": "code",
   "execution_count": 17,
   "metadata": {},
   "outputs": [
    {
     "data": {
      "image/png": "[encoded data removed]",
      "text/plain": [
       "<Figure size 1152x576 with 1 Axes>"
      ]
     },
     "metadata": {},
     "output_type": "display_data"
    }
   ],
   "source": [
    "#visualising the dataset\n",
    "plt.figure(figsize=(16,8))\n",
    "plt.title(\"NIKE\")\n",
    "plt.xlabel('Days')\n",
    "plt.ylabel('Close price in USD ($)')\n",
    "plt.plot( graph)\n",
    "plt.legend(['Actual','Prediction'])\n",
    "plt.show()"
   ]
  },
  {
   "cell_type": "code",
   "execution_count": 18,
   "metadata": {},
   "outputs": [
    {
     "data": {
      "text/plain": [
       "<Figure size 576x396 with 0 Axes>"
      ]
     },
     "metadata": {},
     "output_type": "display_data"
    }
   ],
   "source": [
    "plt.savefig(\"Nike.png\")"
   ]
  }
 ],
 "metadata": {
  "kernelspec": {
   "display_name": "Python 3",
   "language": "python",
   "name": "python3"
  },
  "language_info": {
   "codemirror_mode": {
    "name": "ipython",
    "version": 3
   },
   "file_extension": ".py",
   "mimetype": "text/x-python",
   "name": "python",
   "nbconvert_exporter": "python",
   "pygments_lexer": "ipython3",
   "version": "3.7.8"
  }
 },
 "nbformat": 4,
 "nbformat_minor": 4
}
