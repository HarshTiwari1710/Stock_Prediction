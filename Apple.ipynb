{
 "cells": [
  {
   "cell_type": "code",
   "execution_count": 1,
   "metadata": {},
   "outputs": [],
   "source": [
    "import numpy as np\n",
    "import matplotlib.pyplot as plt\n",
    "import pandas as pd \n",
    "from sklearn.linear_model import LinearRegression\n",
    "from sklearn.model_selection import train_test_split\n",
    "from sklearn import metrics"
   ]
  },
  {
   "cell_type": "code",
   "execution_count": 2,
   "metadata": {},
   "outputs": [],
   "source": [
    "plt.style.use(\"seaborn\")\n",
    "#loading the data \n",
    "df = pd.read_csv(r\"EOD-AAPL.csv\")"
   ]
  },
  {
   "cell_type": "code",
   "execution_count": 3,
   "metadata": {},
   "outputs": [
    {
     "name": "stdout",
     "output_type": "stream",
     "text": [
      "         Date    Open     High      Low   Close      Volume  Dividend  Split  \\\n",
      "0  2017-12-28  171.00  171.850  170.480  171.08  16480187.0       0.0    1.0   \n",
      "1  2017-12-27  170.10  170.780  169.710  170.60  21498213.0       0.0    1.0   \n",
      "2  2017-12-26  170.80  171.470  169.679  170.57  33185536.0       0.0    1.0   \n",
      "3  2017-12-22  174.68  175.424  174.500  175.01  16349444.0       0.0    1.0   \n",
      "4  2017-12-21  174.17  176.020  174.100  175.01  20949896.0       0.0    1.0   \n",
      "\n",
      "    Adj_Open   Adj_High    Adj_Low  Adj_Close   Adj_Volume  \n",
      "0  41.208023  41.412858  41.082712  41.227302   65920748.0  \n",
      "1  40.991139  41.155007  40.897156  41.111630   85992852.0  \n",
      "2  41.159827  41.321285  40.889685  41.104401  132742144.0  \n",
      "3  42.094839  42.274130  42.051462  42.174363   65397776.0  \n",
      "4  41.971938  42.417756  41.955069  42.174363   83799584.0  \n"
     ]
    }
   ],
   "source": [
    "print(df.head())"
   ]
  },
  {
   "cell_type": "code",
   "execution_count": 4,
   "metadata": {},
   "outputs": [
    {
     "data": {
      "text/html": [
       "<div>\n",
       "<style scoped>\n",
       "    .dataframe tbody tr th:only-of-type {\n",
       "        vertical-align: middle;\n",
       "    }\n",
       "\n",
       "    .dataframe tbody tr th {\n",
       "        vertical-align: top;\n",
       "    }\n",
       "\n",
       "    .dataframe thead th {\n",
       "        text-align: right;\n",
       "    }\n",
       "</style>\n",
       "<table border=\"1\" class=\"dataframe\">\n",
       "  <thead>\n",
       "    <tr style=\"text-align: right;\">\n",
       "      <th></th>\n",
       "      <th>Open</th>\n",
       "      <th>High</th>\n",
       "      <th>Low</th>\n",
       "      <th>Close</th>\n",
       "      <th>Volume</th>\n",
       "      <th>Dividend</th>\n",
       "      <th>Split</th>\n",
       "      <th>Adj_Open</th>\n",
       "      <th>Adj_High</th>\n",
       "      <th>Adj_Low</th>\n",
       "      <th>Adj_Close</th>\n",
       "      <th>Adj_Volume</th>\n",
       "    </tr>\n",
       "  </thead>\n",
       "  <tbody>\n",
       "    <tr>\n",
       "      <th>count</th>\n",
       "      <td>1090.000000</td>\n",
       "      <td>1090.000000</td>\n",
       "      <td>1090.000000</td>\n",
       "      <td>1090.000000</td>\n",
       "      <td>1.090000e+03</td>\n",
       "      <td>1090.000000</td>\n",
       "      <td>1090.000000</td>\n",
       "      <td>1090.000000</td>\n",
       "      <td>1090.000000</td>\n",
       "      <td>1090.000000</td>\n",
       "      <td>1090.000000</td>\n",
       "      <td>1.090000e+03</td>\n",
       "    </tr>\n",
       "    <tr>\n",
       "      <th>mean</th>\n",
       "      <td>194.564537</td>\n",
       "      <td>196.114735</td>\n",
       "      <td>193.016676</td>\n",
       "      <td>194.613130</td>\n",
       "      <td>3.605114e+07</td>\n",
       "      <td>0.015642</td>\n",
       "      <td>1.005505</td>\n",
       "      <td>26.413092</td>\n",
       "      <td>26.624142</td>\n",
       "      <td>26.197213</td>\n",
       "      <td>26.418748</td>\n",
       "      <td>1.931334e+08</td>\n",
       "    </tr>\n",
       "    <tr>\n",
       "      <th>std</th>\n",
       "      <td>160.562848</td>\n",
       "      <td>161.812898</td>\n",
       "      <td>159.407381</td>\n",
       "      <td>160.647536</td>\n",
       "      <td>2.194473e+07</td>\n",
       "      <td>0.175122</td>\n",
       "      <td>0.181735</td>\n",
       "      <td>6.625914</td>\n",
       "      <td>6.652340</td>\n",
       "      <td>6.590045</td>\n",
       "      <td>6.627883</td>\n",
       "      <td>1.112891e+08</td>\n",
       "    </tr>\n",
       "    <tr>\n",
       "      <th>min</th>\n",
       "      <td>90.000000</td>\n",
       "      <td>90.700000</td>\n",
       "      <td>89.470000</td>\n",
       "      <td>90.280000</td>\n",
       "      <td>5.704900e+06</td>\n",
       "      <td>0.000000</td>\n",
       "      <td>1.000000</td>\n",
       "      <td>14.214284</td>\n",
       "      <td>14.587125</td>\n",
       "      <td>14.190803</td>\n",
       "      <td>14.282823</td>\n",
       "      <td>4.590369e+07</td>\n",
       "    </tr>\n",
       "    <tr>\n",
       "      <th>25%</th>\n",
       "      <td>108.042500</td>\n",
       "      <td>108.942500</td>\n",
       "      <td>106.972500</td>\n",
       "      <td>108.007500</td>\n",
       "      <td>2.120714e+07</td>\n",
       "      <td>0.000000</td>\n",
       "      <td>1.000000</td>\n",
       "      <td>22.208527</td>\n",
       "      <td>22.472740</td>\n",
       "      <td>21.986746</td>\n",
       "      <td>22.239375</td>\n",
       "      <td>1.133450e+08</td>\n",
       "    </tr>\n",
       "    <tr>\n",
       "      <th>50%</th>\n",
       "      <td>121.585000</td>\n",
       "      <td>122.504950</td>\n",
       "      <td>120.640000</td>\n",
       "      <td>121.755000</td>\n",
       "      <td>3.248325e+07</td>\n",
       "      <td>0.000000</td>\n",
       "      <td>1.000000</td>\n",
       "      <td>25.826039</td>\n",
       "      <td>26.100845</td>\n",
       "      <td>25.555559</td>\n",
       "      <td>25.834367</td>\n",
       "      <td>1.681963e+08</td>\n",
       "    </tr>\n",
       "    <tr>\n",
       "      <th>75%</th>\n",
       "      <td>156.905000</td>\n",
       "      <td>157.809625</td>\n",
       "      <td>155.744975</td>\n",
       "      <td>156.515000</td>\n",
       "      <td>4.673778e+07</td>\n",
       "      <td>0.000000</td>\n",
       "      <td>1.000000</td>\n",
       "      <td>29.379756</td>\n",
       "      <td>29.593018</td>\n",
       "      <td>29.184278</td>\n",
       "      <td>29.413568</td>\n",
       "      <td>2.394642e+08</td>\n",
       "    </tr>\n",
       "    <tr>\n",
       "      <th>max</th>\n",
       "      <td>649.900000</td>\n",
       "      <td>651.260000</td>\n",
       "      <td>644.470000</td>\n",
       "      <td>647.350000</td>\n",
       "      <td>1.895606e+08</td>\n",
       "      <td>3.290000</td>\n",
       "      <td>7.000000</td>\n",
       "      <td>42.198462</td>\n",
       "      <td>42.702115</td>\n",
       "      <td>42.138216</td>\n",
       "      <td>42.514149</td>\n",
       "      <td>1.065523e+09</td>\n",
       "    </tr>\n",
       "  </tbody>\n",
       "</table>\n",
       "</div>"
      ],
      "text/plain": [
       "              Open         High          Low        Close        Volume  \\\n",
       "count  1090.000000  1090.000000  1090.000000  1090.000000  1.090000e+03   \n",
       "mean    194.564537   196.114735   193.016676   194.613130  3.605114e+07   \n",
       "std     160.562848   161.812898   159.407381   160.647536  2.194473e+07   \n",
       "min      90.000000    90.700000    89.470000    90.280000  5.704900e+06   \n",
       "25%     108.042500   108.942500   106.972500   108.007500  2.120714e+07   \n",
       "50%     121.585000   122.504950   120.640000   121.755000  3.248325e+07   \n",
       "75%     156.905000   157.809625   155.744975   156.515000  4.673778e+07   \n",
       "max     649.900000   651.260000   644.470000   647.350000  1.895606e+08   \n",
       "\n",
       "          Dividend        Split     Adj_Open     Adj_High      Adj_Low  \\\n",
       "count  1090.000000  1090.000000  1090.000000  1090.000000  1090.000000   \n",
       "mean      0.015642     1.005505    26.413092    26.624142    26.197213   \n",
       "std       0.175122     0.181735     6.625914     6.652340     6.590045   \n",
       "min       0.000000     1.000000    14.214284    14.587125    14.190803   \n",
       "25%       0.000000     1.000000    22.208527    22.472740    21.986746   \n",
       "50%       0.000000     1.000000    25.826039    26.100845    25.555559   \n",
       "75%       0.000000     1.000000    29.379756    29.593018    29.184278   \n",
       "max       3.290000     7.000000    42.198462    42.702115    42.138216   \n",
       "\n",
       "         Adj_Close    Adj_Volume  \n",
       "count  1090.000000  1.090000e+03  \n",
       "mean     26.418748  1.931334e+08  \n",
       "std       6.627883  1.112891e+08  \n",
       "min      14.282823  4.590369e+07  \n",
       "25%      22.239375  1.133450e+08  \n",
       "50%      25.834367  1.681963e+08  \n",
       "75%      29.413568  2.394642e+08  \n",
       "max      42.514149  1.065523e+09  "
      ]
     },
     "execution_count": 4,
     "metadata": {},
     "output_type": "execute_result"
    }
   ],
   "source": [
    "df.describe()"
   ]
  },
  {
   "cell_type": "code",
   "execution_count": 5,
   "metadata": {},
   "outputs": [],
   "source": [
    "x = df[['High', 'Low','Open','Volume']].values\n",
    "y = df['Close'].values"
   ]
  },
  {
   "cell_type": "code",
   "execution_count": 6,
   "metadata": {},
   "outputs": [],
   "source": [
    "x_train,x_test,y_train,y_test = train_test_split(x,y,test_size = 0.2,random_state = 0)"
   ]
  },
  {
   "cell_type": "code",
   "execution_count": 7,
   "metadata": {},
   "outputs": [],
   "source": [
    "regressor =  LinearRegression()"
   ]
  },
  {
   "cell_type": "code",
   "execution_count": 8,
   "metadata": {},
   "outputs": [
    {
     "data": {
      "text/plain": [
       "LinearRegression()"
      ]
     },
     "execution_count": 8,
     "metadata": {},
     "output_type": "execute_result"
    }
   ],
   "source": [
    "regressor.fit(x_train,y_train)"
   ]
  },
  {
   "cell_type": "code",
   "execution_count": 9,
   "metadata": {},
   "outputs": [
    {
     "name": "stdout",
     "output_type": "stream",
     "text": [
      "[ 8.34946657e-01  8.17070014e-01 -6.52350714e-01 -1.26040633e-09]\n"
     ]
    }
   ],
   "source": [
    "print(regressor.coef_)"
   ]
  },
  {
   "cell_type": "code",
   "execution_count": 10,
   "metadata": {},
   "outputs": [
    {
     "name": "stdout",
     "output_type": "stream",
     "text": [
      "0.11715879234097315\n"
     ]
    }
   ],
   "source": [
    "print(regressor.intercept_)"
   ]
  },
  {
   "cell_type": "code",
   "execution_count": 11,
   "metadata": {},
   "outputs": [],
   "source": [
    "predict = regressor.predict(x_test)"
   ]
  },
  {
   "cell_type": "code",
   "execution_count": 12,
   "metadata": {},
   "outputs": [
    {
     "name": "stdout",
     "output_type": "stream",
     "text": [
      "[120.02314433 132.0144722   99.46505327 114.64912414  99.65888229\n",
      " 161.55235349 170.220755   129.59483305  97.67630918 113.91335341\n",
      " 129.9991868  109.88216445 115.43496863 563.00440582 472.16909889\n",
      " 126.11143523 160.57208029 115.53391352 104.2069998  153.64336158\n",
      " 117.01168036 139.35857538  96.57958975 520.84890553  96.03946468\n",
      " 116.66894248 126.72275145 113.96046127 113.79425457 495.85038809\n",
      " 125.40114351 143.77802399 542.16315657 101.46719424 109.84761126\n",
      " 126.83233511 174.2910376  116.26648488 115.43812741 111.33383593\n",
      " 112.69469748 120.22770864 123.9322495   95.91995426 105.89698148\n",
      " 101.20456006 493.51322552 115.38366085 107.37923632 116.35666938\n",
      " 605.24356525 110.01232653 109.75145218  96.2500869   97.68935555\n",
      " 504.11161867 101.16529272 128.28119804 158.89046689  95.94221016\n",
      " 113.0698389  128.786234   170.13756302 101.62665398 100.47955293\n",
      "  93.60873075  94.0877787  543.41148656  95.82945041 534.76003944\n",
      " 155.41915005 112.10505786 108.20568721 112.4840142  123.34790963\n",
      " 170.21163199 170.38234795 490.59673937 127.21041991 111.28775926\n",
      " 114.31258271 112.1240469  119.55757379 555.42405925 117.37416054\n",
      " 130.33617234 500.90674796 118.42775885 156.13608117  93.81291059\n",
      " 536.0218062  140.25254779 522.27601882 532.4542702   91.01377534\n",
      " 117.6193942  591.79198293  97.78615652  97.23787121 125.61826846\n",
      " 156.94401525  93.70202013 126.04591884 106.31423704  91.57908987\n",
      "  93.24194031 157.09897006 112.073724   116.51319964 550.39798917\n",
      " 168.93373673 116.9648323  101.49009042 533.98202233 108.09132547\n",
      " 119.00788933 119.86257015 589.63799516 117.01909735 140.76135069\n",
      " 124.53259298 126.75277386 130.30727268  98.99549401 108.63232703\n",
      "  99.14788976 108.01326981 157.20252325 116.50935456  99.29123753\n",
      " 625.21154372 107.41972611 522.6173001  155.68985098 115.86178037\n",
      " 140.32969076 518.15566158  96.56390702 142.96133352 514.04064111\n",
      " 478.55847875 124.85155693 154.83613893 109.8002157  159.22572381\n",
      " 110.40030762 528.62104157 535.59177778 137.44378718 123.02746838\n",
      " 128.90152238 544.7902367   92.90015997 535.44041673 557.4923231\n",
      " 142.63097818 102.69023796 128.46432081  97.04172769 646.48314896\n",
      " 565.89446411  96.23653876 174.034723   109.32392424 114.9085973\n",
      " 170.46175569 112.65942074 529.077989   164.27275768 123.68938755\n",
      "  98.94024069 109.25200303  93.95974646 103.1159952  482.01520266\n",
      " 129.9559668  470.7105272  128.88088218 118.51177874 104.03683824\n",
      " 113.5008592  115.75225902 526.89498697 102.01480628 500.99344608\n",
      " 109.78785344 568.06272044 114.87244563 125.07837805 112.61976547\n",
      " 563.48601575 109.82848435  95.43845731 103.06404716 108.88835131\n",
      " 544.29473576 519.33213102 153.51350068 114.3418036  569.53271475\n",
      " 516.64302812 105.7211375  126.8649737  107.98146361  97.01502755\n",
      " 130.30676664 521.95589892 107.72370031 109.53714768  99.86273918\n",
      " 143.64346936  99.66120651 118.1682423  114.76345591 154.87529139\n",
      " 136.6261254  127.13407127  99.85045833]\n"
     ]
    }
   ],
   "source": [
    "print(predict)"
   ]
  },
  {
   "cell_type": "code",
   "execution_count": 13,
   "metadata": {},
   "outputs": [],
   "source": [
    "dframe = pd.DataFrame({\"Actual\" : y_test.flatten() , 'Predicted' : predict.flatten()})"
   ]
  },
  {
   "cell_type": "code",
   "execution_count": 14,
   "metadata": {},
   "outputs": [
    {
     "data": {
      "text/html": [
       "<div>\n",
       "<style scoped>\n",
       "    .dataframe tbody tr th:only-of-type {\n",
       "        vertical-align: middle;\n",
       "    }\n",
       "\n",
       "    .dataframe tbody tr th {\n",
       "        vertical-align: top;\n",
       "    }\n",
       "\n",
       "    .dataframe thead th {\n",
       "        text-align: right;\n",
       "    }\n",
       "</style>\n",
       "<table border=\"1\" class=\"dataframe\">\n",
       "  <thead>\n",
       "    <tr style=\"text-align: right;\">\n",
       "      <th></th>\n",
       "      <th>Actual</th>\n",
       "      <th>Predicted</th>\n",
       "    </tr>\n",
       "  </thead>\n",
       "  <tbody>\n",
       "    <tr>\n",
       "      <th>0</th>\n",
       "      <td>120.53</td>\n",
       "      <td>120.023144</td>\n",
       "    </tr>\n",
       "    <tr>\n",
       "      <th>1</th>\n",
       "      <td>132.04</td>\n",
       "      <td>132.014472</td>\n",
       "    </tr>\n",
       "    <tr>\n",
       "      <th>2</th>\n",
       "      <td>98.75</td>\n",
       "      <td>99.465053</td>\n",
       "    </tr>\n",
       "    <tr>\n",
       "      <th>3</th>\n",
       "      <td>115.59</td>\n",
       "      <td>114.649124</td>\n",
       "    </tr>\n",
       "    <tr>\n",
       "      <th>4</th>\n",
       "      <td>99.44</td>\n",
       "      <td>99.658882</td>\n",
       "    </tr>\n",
       "    <tr>\n",
       "      <th>5</th>\n",
       "      <td>161.47</td>\n",
       "      <td>161.552353</td>\n",
       "    </tr>\n",
       "    <tr>\n",
       "      <th>6</th>\n",
       "      <td>170.15</td>\n",
       "      <td>170.220755</td>\n",
       "    </tr>\n",
       "    <tr>\n",
       "      <th>7</th>\n",
       "      <td>130.28</td>\n",
       "      <td>129.594833</td>\n",
       "    </tr>\n",
       "    <tr>\n",
       "      <th>8</th>\n",
       "      <td>97.90</td>\n",
       "      <td>97.676309</td>\n",
       "    </tr>\n",
       "    <tr>\n",
       "      <th>9</th>\n",
       "      <td>114.06</td>\n",
       "      <td>113.913353</td>\n",
       "    </tr>\n",
       "    <tr>\n",
       "      <th>10</th>\n",
       "      <td>129.62</td>\n",
       "      <td>129.999187</td>\n",
       "    </tr>\n",
       "    <tr>\n",
       "      <th>11</th>\n",
       "      <td>110.78</td>\n",
       "      <td>109.882164</td>\n",
       "    </tr>\n",
       "    <tr>\n",
       "      <th>12</th>\n",
       "      <td>116.15</td>\n",
       "      <td>115.434969</td>\n",
       "    </tr>\n",
       "    <tr>\n",
       "      <th>13</th>\n",
       "      <td>560.54</td>\n",
       "      <td>563.004406</td>\n",
       "    </tr>\n",
       "    <tr>\n",
       "      <th>14</th>\n",
       "      <td>472.69</td>\n",
       "      <td>472.169099</td>\n",
       "    </tr>\n",
       "    <tr>\n",
       "      <th>15</th>\n",
       "      <td>126.32</td>\n",
       "      <td>126.111435</td>\n",
       "    </tr>\n",
       "    <tr>\n",
       "      <th>16</th>\n",
       "      <td>160.86</td>\n",
       "      <td>160.572080</td>\n",
       "    </tr>\n",
       "    <tr>\n",
       "      <th>17</th>\n",
       "      <td>115.28</td>\n",
       "      <td>115.533914</td>\n",
       "    </tr>\n",
       "    <tr>\n",
       "      <th>18</th>\n",
       "      <td>104.34</td>\n",
       "      <td>104.207000</td>\n",
       "    </tr>\n",
       "    <tr>\n",
       "      <th>19</th>\n",
       "      <td>153.46</td>\n",
       "      <td>153.643362</td>\n",
       "    </tr>\n",
       "    <tr>\n",
       "      <th>20</th>\n",
       "      <td>117.29</td>\n",
       "      <td>117.011680</td>\n",
       "    </tr>\n",
       "    <tr>\n",
       "      <th>21</th>\n",
       "      <td>139.20</td>\n",
       "      <td>139.358575</td>\n",
       "    </tr>\n",
       "    <tr>\n",
       "      <th>22</th>\n",
       "      <td>96.45</td>\n",
       "      <td>96.579590</td>\n",
       "    </tr>\n",
       "    <tr>\n",
       "      <th>23</th>\n",
       "      <td>519.80</td>\n",
       "      <td>520.848906</td>\n",
       "    </tr>\n",
       "    <tr>\n",
       "      <th>24</th>\n",
       "      <td>96.76</td>\n",
       "      <td>96.039465</td>\n",
       "    </tr>\n",
       "  </tbody>\n",
       "</table>\n",
       "</div>"
      ],
      "text/plain": [
       "    Actual   Predicted\n",
       "0   120.53  120.023144\n",
       "1   132.04  132.014472\n",
       "2    98.75   99.465053\n",
       "3   115.59  114.649124\n",
       "4    99.44   99.658882\n",
       "5   161.47  161.552353\n",
       "6   170.15  170.220755\n",
       "7   130.28  129.594833\n",
       "8    97.90   97.676309\n",
       "9   114.06  113.913353\n",
       "10  129.62  129.999187\n",
       "11  110.78  109.882164\n",
       "12  116.15  115.434969\n",
       "13  560.54  563.004406\n",
       "14  472.69  472.169099\n",
       "15  126.32  126.111435\n",
       "16  160.86  160.572080\n",
       "17  115.28  115.533914\n",
       "18  104.34  104.207000\n",
       "19  153.46  153.643362\n",
       "20  117.29  117.011680\n",
       "21  139.20  139.358575\n",
       "22   96.45   96.579590\n",
       "23  519.80  520.848906\n",
       "24   96.76   96.039465"
      ]
     },
     "execution_count": 14,
     "metadata": {},
     "output_type": "execute_result"
    }
   ],
   "source": [
    "dframe.head(25)"
   ]
  },
  {
   "cell_type": "code",
   "execution_count": 15,
   "metadata": {},
   "outputs": [
    {
     "name": "stdout",
     "output_type": "stream",
     "text": [
      "Mean Absolute Error :  0.6763554665060482\n",
      "Mean Squared Error :  1.4493654214366212\n",
      "Root Mean Squared Error :  1.2038959346374674\n"
     ]
    }
   ],
   "source": [
    "print(\"Mean Absolute Error : \", metrics.mean_absolute_error(y_test,predict))\n",
    "print(\"Mean Squared Error : \",metrics.mean_squared_error(y_test,predict))\n",
    "print(\"Root Mean Squared Error : \",np.sqrt(metrics.mean_squared_error(y_test,predict)))"
   ]
  },
  {
   "cell_type": "code",
   "execution_count": 16,
   "metadata": {},
   "outputs": [],
   "source": [
    "graph = dframe.head(20)"
   ]
  },
  {
   "cell_type": "code",
   "execution_count": 17,
   "metadata": {
    "scrolled": false
   },
   "outputs": [
    {
     "data": {
      "image/png": "[encoded data removed]",
      "text/plain": [
       "<Figure size 1152x576 with 1 Axes>"
      ]
     },
     "metadata": {},
     "output_type": "display_data"
    }
   ],
   "source": [
    "#visualising the dataset\n",
    "plt.figure(figsize=(16,8))\n",
    "plt.title(\"APPLE\")\n",
    "plt.xlabel('Days')\n",
    "plt.ylabel('Close price in USD ($)')\n",
    "plt.plot( graph)\n",
    "plt.legend(['Actual','Prediction'])\n",
    "plt.show()"
   ]
  },
  {
   "cell_type": "code",
   "execution_count": null,
   "metadata": {},
   "outputs": [],
   "source": []
  }
 ],
 "metadata": {
  "kernelspec": {
   "display_name": "Python 3",
   "language": "python",
   "name": "python3"
  },
  "language_info": {
   "codemirror_mode": {
    "name": "ipython",
    "version": 3
   },
   "file_extension": ".py",
   "mimetype": "text/x-python",
   "name": "python",
   "nbconvert_exporter": "python",
   "pygments_lexer": "ipython3",
   "version": "3.7.8"
  }
 },
 "nbformat": 4,
 "nbformat_minor": 4
}
